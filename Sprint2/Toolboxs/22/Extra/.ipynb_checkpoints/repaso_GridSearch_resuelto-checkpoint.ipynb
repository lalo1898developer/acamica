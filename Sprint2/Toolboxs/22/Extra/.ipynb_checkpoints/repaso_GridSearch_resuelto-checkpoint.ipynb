{
 "cells": [
  {
   "cell_type": "markdown",
   "metadata": {},
   "source": [
    "## Optimizacion y evaluacion de modelos\n",
    "\n",
    "Vamos a trabajar sobre lo que ya trabajamos en el Dataset de Paltas. Para eso, primero vamos a seleccionar los datos de Paltas convencionales de Chicago."
   ]
  },
  {
   "cell_type": "code",
   "execution_count": 1,
   "metadata": {},
   "outputs": [],
   "source": [
    "import numpy as np\n",
    "import pandas as pd\n",
    "import matplotlib.pyplot as plt\n",
    "import seaborn as sns\n",
    "import datetime as dt\n",
    "\n",
    "sns.set()"
   ]
  },
  {
   "cell_type": "code",
   "execution_count": 2,
   "metadata": {},
   "outputs": [
    {
     "name": "stderr",
     "output_type": "stream",
     "text": [
      "<ipython-input-2-328a26c3bdf2>:9: SettingWithCopyWarning: \n",
      "A value is trying to be set on a copy of a slice from a DataFrame.\n",
      "Try using .loc[row_indexer,col_indexer] = value instead\n",
      "\n",
      "See the caveats in the documentation: https://pandas.pydata.org/pandas-docs/stable/user_guide/indexing.html#returning-a-view-versus-a-copy\n",
      "  palta_chicago['Date']=palta_chicago['Date'].map(dt.datetime.toordinal)\n"
     ]
    }
   ],
   "source": [
    "palta = pd.read_csv('avocado.csv', delimiter=',', parse_dates=[\"Date\"])\n",
    "\n",
    "palta.drop('Unnamed: 0', axis = 1, inplace = True)\n",
    "palta.sort_values(\"Date\", inplace = True)\n",
    "palta.reset_index(inplace = True, drop  = True)\n",
    "\n",
    "palta_chicago = palta[palta.region == 'Chicago']\n",
    "palta_chicago.reset_index(inplace = True, drop = True)\n",
    "palta_chicago['Date']=palta_chicago['Date'].map(dt.datetime.toordinal)\n",
    "palta_chicago_convencional = palta_chicago[palta_chicago.type == 'conventional']\n",
    "\n",
    "X = palta_chicago_convencional.Date.values.reshape(-1,1)\n",
    "y = palta_chicago_convencional.AveragePrice.values  "
   ]
  },
  {
   "cell_type": "markdown",
   "metadata": {},
   "source": [
    "### Antes de empezar a trabajar, vamos a separar nuestros datos en el conjunto de datos de entrenamiento y el de Held-out:\n",
    "### 1) Importar de Sckit-learn la funcion \"train_test_split\"\n",
    "### 2) Separar los datos de entrenamiento y Held-out utilizando la funcion que acabamos de importar. "
   ]
  },
  {
   "cell_type": "code",
   "execution_count": 3,
   "metadata": {},
   "outputs": [],
   "source": [
    "# RESPUESTA\n",
    "from sklearn.model_selection import train_test_split\n",
    "X_train, X_test, y_train, y_test = train_test_split(X, y,test_size=0.30, random_state=0)"
   ]
  },
  {
   "cell_type": "code",
   "execution_count": 4,
   "metadata": {},
   "outputs": [
    {
     "data": {
      "image/png": "[encoded data removed]",
      "text/plain": [
       "<Figure size 720x360 with 1 Axes>"
      ]
     },
     "metadata": {},
     "output_type": "display_data"
    }
   ],
   "source": [
    "for i in range(X_train.shape[1]):\n",
    "    plt.figure(figsize=(10,5))\n",
    "    sns.distplot(X_train[:,i])\n",
    "    sns.distplot(X_test[:,i])\n",
    "    plt.show()"
   ]
  },
  {
   "cell_type": "markdown",
   "metadata": {},
   "source": [
    "\n",
    "### Para realizar el gridsearch, seguir los siguientes pasos:\n",
    "### 1) Importa la funcion \"DecisionTreeRegressor\"\n",
    "### 2) Cargar un DecisionTreeRegressor en la variable \"rgr_tree\"\n",
    "### 3) En la variable diccionario \"parameters\" especificar en qué valores queremos realizar el Grid Search \n",
    "(sólo tenes que completar la ayuda!)\n",
    "### 4) Ejecutar el Grid search. Buscá en internet qué significa la variable cv y completá. "
   ]
  },
  {
   "cell_type": "code",
   "execution_count": 12,
   "metadata": {},
   "outputs": [],
   "source": [
    "### RESPUESTA\n",
    "from sklearn.tree import DecisionTreeRegressor\n",
    "from sklearn.model_selection import GridSearchCV\n",
    "\n",
    "rgr_tree = DecisionTreeRegressor()\n",
    "parameters = {'criterion':['mae', 'mse'], 'max_depth':[2,5,7,10,15,20]}\n",
    "clf = GridSearchCV(rgr_tree, parameters, cv=10,scoring='neg_mean_squared_error',return_train_score=True, n_jobs=-1)\n"
   ]
  },
  {
   "cell_type": "markdown",
   "metadata": {},
   "source": [
    "### Una vez que determinamos cuales son los parametros de busqueda, vamos a entrenar el gridsearch con los datos de entrenamiento. \n",
    "(Solamente tenes que ejecutar esta celda)\n"
   ]
  },
  {
   "cell_type": "code",
   "execution_count": 29,
   "metadata": {},
   "outputs": [
    {
     "data": {
      "text/plain": [
       "GridSearchCV(cv=10, estimator=DecisionTreeRegressor(), n_jobs=-1,\n",
       "             param_grid={'criterion': ['mae', 'mse'],\n",
       "                         'max_depth': [2, 5, 7, 10, 15, 20]},\n",
       "             return_train_score=True, scoring='neg_mean_squared_error')"
      ]
     },
     "execution_count": 29,
     "metadata": {},
     "output_type": "execute_result"
    }
   ],
   "source": [
    "clf.fit(X_train, y_train)"
   ]
  },
  {
   "cell_type": "markdown",
   "metadata": {},
   "source": [
    "### Te invito a explorar los resultados\n"
   ]
  },
  {
   "cell_type": "code",
   "execution_count": 30,
   "metadata": {},
   "outputs": [
    {
     "data": {
      "text/html": [
       "<div>\n",
       "<style scoped>\n",
       "    .dataframe tbody tr th:only-of-type {\n",
       "        vertical-align: middle;\n",
       "    }\n",
       "\n",
       "    .dataframe tbody tr th {\n",
       "        vertical-align: top;\n",
       "    }\n",
       "\n",
       "    .dataframe thead th {\n",
       "        text-align: right;\n",
       "    }\n",
       "</style>\n",
       "<table border=\"1\" class=\"dataframe\">\n",
       "  <thead>\n",
       "    <tr style=\"text-align: right;\">\n",
       "      <th></th>\n",
       "      <th>mean_fit_time</th>\n",
       "      <th>std_fit_time</th>\n",
       "      <th>mean_score_time</th>\n",
       "      <th>std_score_time</th>\n",
       "      <th>param_criterion</th>\n",
       "      <th>param_max_depth</th>\n",
       "      <th>params</th>\n",
       "      <th>split0_test_score</th>\n",
       "      <th>split1_test_score</th>\n",
       "      <th>split2_test_score</th>\n",
       "      <th>...</th>\n",
       "      <th>split2_train_score</th>\n",
       "      <th>split3_train_score</th>\n",
       "      <th>split4_train_score</th>\n",
       "      <th>split5_train_score</th>\n",
       "      <th>split6_train_score</th>\n",
       "      <th>split7_train_score</th>\n",
       "      <th>split8_train_score</th>\n",
       "      <th>split9_train_score</th>\n",
       "      <th>mean_train_score</th>\n",
       "      <th>std_train_score</th>\n",
       "    </tr>\n",
       "  </thead>\n",
       "  <tbody>\n",
       "    <tr>\n",
       "      <th>0</th>\n",
       "      <td>0.000852</td>\n",
       "      <td>0.000184</td>\n",
       "      <td>0.000638</td>\n",
       "      <td>0.000107</td>\n",
       "      <td>mae</td>\n",
       "      <td>2</td>\n",
       "      <td>{'criterion': 'mae', 'max_depth': 2}</td>\n",
       "      <td>-0.102735</td>\n",
       "      <td>-0.020319</td>\n",
       "      <td>-0.061748</td>\n",
       "      <td>...</td>\n",
       "      <td>-0.045354</td>\n",
       "      <td>-0.050410</td>\n",
       "      <td>-0.046551</td>\n",
       "      <td>-0.045673</td>\n",
       "      <td>-0.045347</td>\n",
       "      <td>-0.043831</td>\n",
       "      <td>-0.046842</td>\n",
       "      <td>-0.048281</td>\n",
       "      <td>-0.046093</td>\n",
       "      <td>0.002969</td>\n",
       "    </tr>\n",
       "    <tr>\n",
       "      <th>1</th>\n",
       "      <td>0.001314</td>\n",
       "      <td>0.000117</td>\n",
       "      <td>0.000758</td>\n",
       "      <td>0.000062</td>\n",
       "      <td>mae</td>\n",
       "      <td>5</td>\n",
       "      <td>{'criterion': 'mae', 'max_depth': 5}</td>\n",
       "      <td>-0.088523</td>\n",
       "      <td>-0.031923</td>\n",
       "      <td>-0.075500</td>\n",
       "      <td>...</td>\n",
       "      <td>-0.023503</td>\n",
       "      <td>-0.006999</td>\n",
       "      <td>-0.006532</td>\n",
       "      <td>-0.028759</td>\n",
       "      <td>-0.006719</td>\n",
       "      <td>-0.027008</td>\n",
       "      <td>-0.006023</td>\n",
       "      <td>-0.006378</td>\n",
       "      <td>-0.015789</td>\n",
       "      <td>0.009699</td>\n",
       "    </tr>\n",
       "    <tr>\n",
       "      <th>2</th>\n",
       "      <td>0.002084</td>\n",
       "      <td>0.001821</td>\n",
       "      <td>0.000659</td>\n",
       "      <td>0.000114</td>\n",
       "      <td>mae</td>\n",
       "      <td>7</td>\n",
       "      <td>{'criterion': 'mae', 'max_depth': 7}</td>\n",
       "      <td>-0.027238</td>\n",
       "      <td>-0.018283</td>\n",
       "      <td>-0.032421</td>\n",
       "      <td>...</td>\n",
       "      <td>-0.003395</td>\n",
       "      <td>-0.002206</td>\n",
       "      <td>-0.001690</td>\n",
       "      <td>-0.003204</td>\n",
       "      <td>-0.001094</td>\n",
       "      <td>-0.003179</td>\n",
       "      <td>-0.001982</td>\n",
       "      <td>-0.002048</td>\n",
       "      <td>-0.002229</td>\n",
       "      <td>0.000749</td>\n",
       "    </tr>\n",
       "    <tr>\n",
       "      <th>3</th>\n",
       "      <td>0.001703</td>\n",
       "      <td>0.000531</td>\n",
       "      <td>0.000825</td>\n",
       "      <td>0.000259</td>\n",
       "      <td>mae</td>\n",
       "      <td>10</td>\n",
       "      <td>{'criterion': 'mae', 'max_depth': 10}</td>\n",
       "      <td>-0.021052</td>\n",
       "      <td>-0.009783</td>\n",
       "      <td>-0.041733</td>\n",
       "      <td>...</td>\n",
       "      <td>-0.000174</td>\n",
       "      <td>-0.000442</td>\n",
       "      <td>-0.000445</td>\n",
       "      <td>-0.000123</td>\n",
       "      <td>-0.000003</td>\n",
       "      <td>-0.000387</td>\n",
       "      <td>-0.000211</td>\n",
       "      <td>-0.000382</td>\n",
       "      <td>-0.000276</td>\n",
       "      <td>0.000158</td>\n",
       "    </tr>\n",
       "    <tr>\n",
       "      <th>4</th>\n",
       "      <td>0.001578</td>\n",
       "      <td>0.000426</td>\n",
       "      <td>0.000820</td>\n",
       "      <td>0.000220</td>\n",
       "      <td>mae</td>\n",
       "      <td>15</td>\n",
       "      <td>{'criterion': 'mae', 'max_depth': 15}</td>\n",
       "      <td>-0.024225</td>\n",
       "      <td>-0.010983</td>\n",
       "      <td>-0.044233</td>\n",
       "      <td>...</td>\n",
       "      <td>-0.000000</td>\n",
       "      <td>-0.000000</td>\n",
       "      <td>-0.000000</td>\n",
       "      <td>-0.000000</td>\n",
       "      <td>-0.000000</td>\n",
       "      <td>-0.000000</td>\n",
       "      <td>-0.000000</td>\n",
       "      <td>-0.000000</td>\n",
       "      <td>0.000000</td>\n",
       "      <td>0.000000</td>\n",
       "    </tr>\n",
       "  </tbody>\n",
       "</table>\n",
       "<p>5 rows × 32 columns</p>\n",
       "</div>"
      ],
      "text/plain": [
       "   mean_fit_time  std_fit_time  mean_score_time  std_score_time  \\\n",
       "0       0.000852      0.000184         0.000638        0.000107   \n",
       "1       0.001314      0.000117         0.000758        0.000062   \n",
       "2       0.002084      0.001821         0.000659        0.000114   \n",
       "3       0.001703      0.000531         0.000825        0.000259   \n",
       "4       0.001578      0.000426         0.000820        0.000220   \n",
       "\n",
       "  param_criterion param_max_depth                                 params  \\\n",
       "0             mae               2   {'criterion': 'mae', 'max_depth': 2}   \n",
       "1             mae               5   {'criterion': 'mae', 'max_depth': 5}   \n",
       "2             mae               7   {'criterion': 'mae', 'max_depth': 7}   \n",
       "3             mae              10  {'criterion': 'mae', 'max_depth': 10}   \n",
       "4             mae              15  {'criterion': 'mae', 'max_depth': 15}   \n",
       "\n",
       "   split0_test_score  split1_test_score  split2_test_score  ...  \\\n",
       "0          -0.102735          -0.020319          -0.061748  ...   \n",
       "1          -0.088523          -0.031923          -0.075500  ...   \n",
       "2          -0.027238          -0.018283          -0.032421  ...   \n",
       "3          -0.021052          -0.009783          -0.041733  ...   \n",
       "4          -0.024225          -0.010983          -0.044233  ...   \n",
       "\n",
       "   split2_train_score  split3_train_score  split4_train_score  \\\n",
       "0           -0.045354           -0.050410           -0.046551   \n",
       "1           -0.023503           -0.006999           -0.006532   \n",
       "2           -0.003395           -0.002206           -0.001690   \n",
       "3           -0.000174           -0.000442           -0.000445   \n",
       "4           -0.000000           -0.000000           -0.000000   \n",
       "\n",
       "   split5_train_score  split6_train_score  split7_train_score  \\\n",
       "0           -0.045673           -0.045347           -0.043831   \n",
       "1           -0.028759           -0.006719           -0.027008   \n",
       "2           -0.003204           -0.001094           -0.003179   \n",
       "3           -0.000123           -0.000003           -0.000387   \n",
       "4           -0.000000           -0.000000           -0.000000   \n",
       "\n",
       "   split8_train_score  split9_train_score  mean_train_score  std_train_score  \n",
       "0           -0.046842           -0.048281         -0.046093         0.002969  \n",
       "1           -0.006023           -0.006378         -0.015789         0.009699  \n",
       "2           -0.001982           -0.002048         -0.002229         0.000749  \n",
       "3           -0.000211           -0.000382         -0.000276         0.000158  \n",
       "4           -0.000000           -0.000000          0.000000         0.000000  \n",
       "\n",
       "[5 rows x 32 columns]"
      ]
     },
     "execution_count": 30,
     "metadata": {},
     "output_type": "execute_result"
    }
   ],
   "source": [
    "results = pd.DataFrame(clf.cv_results_)\n",
    "results.head()"
   ]
  },
  {
   "cell_type": "code",
   "execution_count": 31,
   "metadata": {},
   "outputs": [
    {
     "data": {
      "text/plain": [
       "Index(['mean_fit_time', 'std_fit_time', 'mean_score_time', 'std_score_time',\n",
       "       'param_criterion', 'param_max_depth', 'params', 'split0_test_score',\n",
       "       'split1_test_score', 'split2_test_score', 'split3_test_score',\n",
       "       'split4_test_score', 'split5_test_score', 'split6_test_score',\n",
       "       'split7_test_score', 'split8_test_score', 'split9_test_score',\n",
       "       'mean_test_score', 'std_test_score', 'rank_test_score',\n",
       "       'split0_train_score', 'split1_train_score', 'split2_train_score',\n",
       "       'split3_train_score', 'split4_train_score', 'split5_train_score',\n",
       "       'split6_train_score', 'split7_train_score', 'split8_train_score',\n",
       "       'split9_train_score', 'mean_train_score', 'std_train_score'],\n",
       "      dtype='object')"
      ]
     },
     "execution_count": 31,
     "metadata": {},
     "output_type": "execute_result"
    }
   ],
   "source": [
    "results.columns"
   ]
  },
  {
   "cell_type": "code",
   "execution_count": 32,
   "metadata": {},
   "outputs": [
    {
     "data": {
      "text/plain": [
       "{'criterion': 'mae', 'max_depth': 10}"
      ]
     },
     "execution_count": 32,
     "metadata": {},
     "output_type": "execute_result"
    }
   ],
   "source": [
    "clf.best_params_"
   ]
  },
  {
   "cell_type": "markdown",
   "metadata": {},
   "source": [
    "### Graficamos la curva de complejidad para el 'mae'\n"
   ]
  },
  {
   "cell_type": "code",
   "execution_count": 33,
   "metadata": {},
   "outputs": [
    {
     "data": {
      "text/plain": [
       "<ErrorbarContainer object of 3 artists>"
      ]
     },
     "execution_count": 33,
     "metadata": {},
     "output_type": "execute_result"
    },
    {
     "data": {
      "image/png": "[encoded data removed]",
      "text/plain": [
       "<Figure size 432x288 with 1 Axes>"
      ]
     },
     "metadata": {},
     "output_type": "display_data"
    }
   ],
   "source": [
    "mask_mae = results.param_criterion == 'mae'\n",
    "\n",
    "plt.figure(0)\n",
    "plt.title('MAE')\n",
    "#plt.ylim(0,1)\n",
    "plt.errorbar(x=results[mask_mae].param_max_depth, y=results[mask_mae].mean_test_score,yerr=results[mask_mae].std_test_score,fmt='o:')"
   ]
  },
  {
   "cell_type": "markdown",
   "metadata": {},
   "source": [
    "### Plotea exactamente la misma curva que antes, pero para el caso de mse\n"
   ]
  },
  {
   "cell_type": "code",
   "execution_count": 34,
   "metadata": {},
   "outputs": [
    {
     "data": {
      "text/plain": [
       "<ErrorbarContainer object of 3 artists>"
      ]
     },
     "execution_count": 34,
     "metadata": {},
     "output_type": "execute_result"
    },
    {
     "data": {
      "image/png": "[encoded data removed]",
      "text/plain": [
       "<Figure size 432x288 with 1 Axes>"
      ]
     },
     "metadata": {},
     "output_type": "display_data"
    }
   ],
   "source": [
    "### RESPUESTA\n",
    "mask_mse = results.param_criterion == 'mse'\n",
    "\n",
    "plt.figure(1)\n",
    "plt.title('MSE')\n",
    "#plt.ylim(0,1)\n",
    "plt.errorbar(x=results[mask_mse].param_max_depth, y=results[mask_mse].mean_test_score,yerr=results[mask_mse].std_test_score,fmt='o:')"
   ]
  },
  {
   "cell_type": "markdown",
   "metadata": {},
   "source": [
    "Que magnitudes son las que ploteaste? <br>\n",
    "Que significa el error de cada curva? <br>\n",
    "En que se parecen y en que se diferencian las curvas de arriba? De donde crees que vienen las diferencias? <br>\n",
    "Plotearias algo que te ayude a comprobar tu hipotesis? <br>"
   ]
  },
  {
   "cell_type": "markdown",
   "metadata": {},
   "source": [
    "### Podes ver mas funciones en la documentacion!\n"
   ]
  },
  {
   "cell_type": "code",
   "execution_count": 35,
   "metadata": {},
   "outputs": [
    {
     "name": "stdout",
     "output_type": "stream",
     "text": [
      "DecisionTreeRegressor(criterion='mae', max_depth=10)\n",
      "-0.01761212121212121\n",
      "    rank_test_score  mean_test_score  std_test_score  \\\n",
      "3                 1        -0.017612        0.011399   \n",
      "2                 2        -0.017875        0.010129   \n",
      "8                 3        -0.018216        0.012996   \n",
      "4                 4        -0.018306        0.011981   \n",
      "5                 4        -0.018306        0.011981   \n",
      "10                4        -0.018306        0.011981   \n",
      "11                4        -0.018306        0.011981   \n",
      "9                 8        -0.018340        0.011988   \n",
      "7                 9        -0.018776        0.011309   \n",
      "1                10        -0.033400        0.026729   \n",
      "0                11        -0.048832        0.026588   \n",
      "6                12        -0.052826        0.026828   \n",
      "\n",
      "                                   params  \n",
      "3   {'criterion': 'mae', 'max_depth': 10}  \n",
      "2    {'criterion': 'mae', 'max_depth': 7}  \n",
      "8    {'criterion': 'mse', 'max_depth': 7}  \n",
      "4   {'criterion': 'mae', 'max_depth': 15}  \n",
      "5   {'criterion': 'mae', 'max_depth': 20}  \n",
      "10  {'criterion': 'mse', 'max_depth': 15}  \n",
      "11  {'criterion': 'mse', 'max_depth': 20}  \n",
      "9   {'criterion': 'mse', 'max_depth': 10}  \n",
      "7    {'criterion': 'mse', 'max_depth': 5}  \n",
      "1    {'criterion': 'mae', 'max_depth': 5}  \n",
      "0    {'criterion': 'mae', 'max_depth': 2}  \n",
      "6    {'criterion': 'mse', 'max_depth': 2}  \n"
     ]
    }
   ],
   "source": [
    "print(clf.best_estimator_)\n",
    "print(clf.best_score_)\n",
    "\n",
    "results.sort_values(by=['rank_test_score'],inplace=True)\n",
    "print(results[['rank_test_score','mean_test_score','std_test_score','params']])"
   ]
  },
  {
   "cell_type": "markdown",
   "metadata": {},
   "source": [
    "Te parece razonable el modelo que elogio el Grid Search? O eligirias algun otro?"
   ]
  },
  {
   "cell_type": "markdown",
   "metadata": {},
   "source": [
    "### Una vez que hayas elegido el que pensas que es el mejor modelo, reporta tu estimacion de la performance evaluando sobre el conjunto Held-out que separaste al principio."
   ]
  },
  {
   "cell_type": "code",
   "execution_count": 36,
   "metadata": {},
   "outputs": [],
   "source": [
    "y_pred_train=clf.predict(X_train)"
   ]
  },
  {
   "cell_type": "code",
   "execution_count": 37,
   "metadata": {},
   "outputs": [],
   "source": [
    "y_pred_test=clf.predict(X_test)"
   ]
  },
  {
   "cell_type": "code",
   "execution_count": 38,
   "metadata": {},
   "outputs": [],
   "source": [
    "from sklearn.metrics import mean_squared_error\n",
    "from sklearn.metrics import r2_score"
   ]
  },
  {
   "cell_type": "markdown",
   "metadata": {},
   "source": [
    "### RMSE en TRAIN y TEST"
   ]
  },
  {
   "cell_type": "code",
   "execution_count": 39,
   "metadata": {},
   "outputs": [
    {
     "name": "stdout",
     "output_type": "stream",
     "text": [
      "0.21244145675696072\n",
      "0.019861810728725844\n"
     ]
    }
   ],
   "source": [
    "print(np.sqrt(mean_squared_error(y_test, y_pred_test)))\n",
    "print(np.sqrt(mean_squared_error(y_train, y_pred_train)))"
   ]
  },
  {
   "cell_type": "markdown",
   "metadata": {},
   "source": [
    "### MSE en TRAIN y TEST"
   ]
  },
  {
   "cell_type": "code",
   "execution_count": 40,
   "metadata": {},
   "outputs": [
    {
     "name": "stdout",
     "output_type": "stream",
     "text": [
      "0.04513137254901961\n",
      "0.000394491525423729\n"
     ]
    }
   ],
   "source": [
    "print(mean_squared_error(y_test, y_pred_test))\n",
    "print(mean_squared_error(y_train, y_pred_train))"
   ]
  },
  {
   "cell_type": "markdown",
   "metadata": {},
   "source": [
    "### R2 en TRAIN y TEST"
   ]
  },
  {
   "cell_type": "code",
   "execution_count": 41,
   "metadata": {},
   "outputs": [
    {
     "name": "stdout",
     "output_type": "stream",
     "text": [
      "0.5881671290663455\n",
      "0.9960980889948834\n"
     ]
    }
   ],
   "source": [
    "print(r2_score(y_test, y_pred_test)) # clf.score(X_test,y_test)\n",
    "print(r2_score(y_train, y_pred_train)) # clf.score(X_train,y_train)\n"
   ]
  },
  {
   "cell_type": "markdown",
   "metadata": {},
   "source": [
    "## DESAFIO\n",
    "Realiza el mismo procedimiento, pero esta vez implementando el algoritmo de regresion de KNN. <br>\n",
    "\n",
    "Antes de empezar, piensa cuales son los hiperparametros que recorrerias con el Grid Search."
   ]
  },
  {
   "cell_type": "code",
   "execution_count": null,
   "metadata": {},
   "outputs": [],
   "source": []
  }
 ],
 "metadata": {
  "kernelspec": {
   "display_name": "Python 3",
   "language": "python",
   "name": "python3"
  },
  "language_info": {
   "codemirror_mode": {
    "name": "ipython",
    "version": 3
   },
   "file_extension": ".py",
   "mimetype": "text/x-python",
   "name": "python",
   "nbconvert_exporter": "python",
   "pygments_lexer": "ipython3",
   "version": "3.8.2"
  }
 },
 "nbformat": 4,
 "nbformat_minor": 4
}
