{
 "cells": [
  {
   "cell_type": "markdown",
   "metadata": {},
   "source": [
    "# Ingeniería de features de las propiedades en venta.\n",
    "La idea de este notebook es que comencemos a pensar como procesar los features del Dataset de Properatti que utilizaron para la primer entrega. La ingenieria de features lleva mucho tiempo y trabajo. En esta actividad les presentamos algunas buenas prácticas y les sugerimos algunas ideas, pero queda mucho por hacer! Les invitamos a seguir procesándolo en sus casas :)"
   ]
  },
  {
   "cell_type": "code",
   "execution_count": 1,
   "metadata": {},
   "outputs": [],
   "source": [
    "import numpy as np\n",
    "import pandas as pd\n",
    "import matplotlib.pyplot as plt\n",
    "import seaborn as sns"
   ]
  },
  {
   "cell_type": "code",
   "execution_count": 2,
   "metadata": {},
   "outputs": [],
   "source": [
    "properati = pd.read_csv('datos_properati.csv', delimiter=',', parse_dates = ['created_on'])"
   ]
  },
  {
   "cell_type": "code",
   "execution_count": 3,
   "metadata": {},
   "outputs": [],
   "source": [
    "#properati.property_type.apply(lambda x: np.where(x =='Departamento', 0, 1).head()"
   ]
  },
  {
   "cell_type": "code",
   "execution_count": 4,
   "metadata": {},
   "outputs": [
    {
     "data": {
      "text/plain": [
       "created_on                 datetime64[ns]\n",
       "operation                          object\n",
       "property_type                      object\n",
       "place_with_parent_names            object\n",
       "lat-lon                            object\n",
       "lat                               float64\n",
       "lon                               float64\n",
       "price_aprox_usd                   float64\n",
       "surface_total_in_m2               float64\n",
       "surface_covered_in_m2             float64\n",
       "price_usd_per_m2                  float64\n",
       "floor                             float64\n",
       "rooms                             float64\n",
       "expenses                          float64\n",
       "properati_url                      object\n",
       "barrio                             object\n",
       "comuna                            float64\n",
       "dtype: object"
      ]
     },
     "execution_count": 4,
     "metadata": {},
     "output_type": "execute_result"
    }
   ],
   "source": [
    "properati.dtypes"
   ]
  },
  {
   "cell_type": "markdown",
   "metadata": {},
   "source": [
    "## 1- Amigarse con el Dataset\n",
    "\n",
    "**a)** Indica a qué grupo pertenece las variables de cada columna del Dataset, siendo los grupos:\n",
    "\n",
    "- Numéricas. \n",
    "- Categóricas Nominales.\n",
    "- Categóricas Ordinales.\n",
    "- Fechas - Hora - Ubicacion.\n",
    "\n",
    "Por ejemplo, la columna \"lat\" tiene variables del tipo \" Fechas - Hora - Ubicacion\"\n"
   ]
  },
  {
   "cell_type": "code",
   "execution_count": 5,
   "metadata": {},
   "outputs": [
    {
     "name": "stdout",
     "output_type": "stream",
     "text": [
      "0 created_on\n",
      "1 operation\n",
      "2 property_type\n",
      "3 place_with_parent_names\n",
      "4 lat-lon\n",
      "5 lat\n",
      "6 lon\n",
      "7 price_aprox_usd\n",
      "8 surface_total_in_m2\n",
      "9 surface_covered_in_m2\n",
      "10 price_usd_per_m2\n",
      "11 floor\n",
      "12 rooms\n",
      "13 expenses\n",
      "14 properati_url\n",
      "15 barrio\n",
      "16 comuna\n"
     ]
    }
   ],
   "source": [
    "#for col in properati.columns:\n",
    "#    print(col)\n",
    "    \n",
    "for indice, elemento in enumerate(properati.columns):\n",
    "    print(indice, elemento)"
   ]
  },
  {
   "cell_type": "code",
   "execution_count": 6,
   "metadata": {},
   "outputs": [
    {
     "name": "stdout",
     "output_type": "stream",
     "text": [
      "0 - En la columna \"created_on\" tenemos variables de tipo \"None\" \n",
      "\n",
      "1 - En la columna \"operation\" tenemos variables de tipo \"None\" \n",
      "\n",
      "2 - En la columna \"property_type\" tenemos variables de tipo \"None\" \n",
      "\n",
      "3 - En la columna \"place_with_parent_names\" tenemos variables de tipo \"None\" \n",
      "\n",
      "4 - En la columna \"lat-lon\" tenemos variables de tipo \"None\" \n",
      "\n",
      "5 - En la columna \"lat\" tenemos variables de tipo \"Fechas - Hora - Ubicacion\" \n",
      "\n",
      "6 - En la columna \"lon\" tenemos variables de tipo \"None\" \n",
      "\n",
      "7 - En la columna \"price_aprox_usd\" tenemos variables de tipo \"None\" \n",
      "\n",
      "8 - En la columna \"surface_total_in_m2\" tenemos variables de tipo \"None\" \n",
      "\n",
      "9 - En la columna \"surface_covered_in_m2\" tenemos variables de tipo \"None\" \n",
      "\n",
      "10 - En la columna \"price_usd_per_m2\" tenemos variables de tipo \"None\" \n",
      "\n",
      "11 - En la columna \"floor\" tenemos variables de tipo \"None\" \n",
      "\n",
      "12 - En la columna \"rooms\" tenemos variables de tipo \"None\" \n",
      "\n",
      "13 - En la columna \"expenses\" tenemos variables de tipo \"None\" \n",
      "\n",
      "14 - En la columna \"properati_url\" tenemos variables de tipo \"None\" \n",
      "\n",
      "15 - En la columna \"barrio\" tenemos variables de tipo \"None\" \n",
      "\n",
      "16 - En la columna \"comuna\" tenemos variables de tipo \"None\" \n",
      "\n"
     ]
    }
   ],
   "source": [
    "tipo_variable = [None]*len(properati.columns)\n",
    "tipo_variable[5] = 'Fechas - Hora - Ubicacion'\n",
    "\n",
    "for orden,col in enumerate(properati.columns):\n",
    "    print('{} - En la columna \"{}\" tenemos variables de tipo \"{}\" \\n'.format(orden,col,tipo_variable[orden]))"
   ]
  },
  {
   "cell_type": "markdown",
   "metadata": {},
   "source": [
    "**b-** Indica qué columnas tienen NaNs. En caso de tenerlos, cuántos"
   ]
  },
  {
   "cell_type": "code",
   "execution_count": 7,
   "metadata": {},
   "outputs": [
    {
     "name": "stdout",
     "output_type": "stream",
     "text": [
      "<class 'pandas.core.frame.DataFrame'>\n",
      "RangeIndex: 18979 entries, 0 to 18978\n",
      "Data columns (total 17 columns):\n",
      " #   Column                   Non-Null Count  Dtype         \n",
      "---  ------                   --------------  -----         \n",
      " 0   created_on               18979 non-null  datetime64[ns]\n",
      " 1   operation                18979 non-null  object        \n",
      " 2   property_type            18979 non-null  object        \n",
      " 3   place_with_parent_names  18979 non-null  object        \n",
      " 4   lat-lon                  18979 non-null  object        \n",
      " 5   lat                      18979 non-null  float64       \n",
      " 6   lon                      18979 non-null  float64       \n",
      " 7   price_aprox_usd          17445 non-null  float64       \n",
      " 8   surface_total_in_m2      16586 non-null  float64       \n",
      " 9   surface_covered_in_m2    16876 non-null  float64       \n",
      " 10  price_usd_per_m2         16037 non-null  float64       \n",
      " 11  floor                    2756 non-null   float64       \n",
      " 12  rooms                    13517 non-null  float64       \n",
      " 13  expenses                 3815 non-null   float64       \n",
      " 14  properati_url            18979 non-null  object        \n",
      " 15  barrio                   18979 non-null  object        \n",
      " 16  comuna                   18979 non-null  float64       \n",
      "dtypes: datetime64[ns](1), float64(10), object(6)\n",
      "memory usage: 2.5+ MB\n"
     ]
    },
    {
     "data": {
      "text/html": [
       "<div>\n",
       "<style scoped>\n",
       "    .dataframe tbody tr th:only-of-type {\n",
       "        vertical-align: middle;\n",
       "    }\n",
       "\n",
       "    .dataframe tbody tr th {\n",
       "        vertical-align: top;\n",
       "    }\n",
       "\n",
       "    .dataframe thead th {\n",
       "        text-align: right;\n",
       "    }\n",
       "</style>\n",
       "<table border=\"1\" class=\"dataframe\">\n",
       "  <thead>\n",
       "    <tr style=\"text-align: right;\">\n",
       "      <th></th>\n",
       "      <th>Total</th>\n",
       "      <th>Percent</th>\n",
       "    </tr>\n",
       "  </thead>\n",
       "  <tbody>\n",
       "    <tr>\n",
       "      <th>floor</th>\n",
       "      <td>16223</td>\n",
       "      <td>0.854787</td>\n",
       "    </tr>\n",
       "    <tr>\n",
       "      <th>expenses</th>\n",
       "      <td>15164</td>\n",
       "      <td>0.798988</td>\n",
       "    </tr>\n",
       "    <tr>\n",
       "      <th>rooms</th>\n",
       "      <td>5462</td>\n",
       "      <td>0.287792</td>\n",
       "    </tr>\n",
       "    <tr>\n",
       "      <th>price_usd_per_m2</th>\n",
       "      <td>2942</td>\n",
       "      <td>0.155013</td>\n",
       "    </tr>\n",
       "    <tr>\n",
       "      <th>surface_total_in_m2</th>\n",
       "      <td>2393</td>\n",
       "      <td>0.126087</td>\n",
       "    </tr>\n",
       "    <tr>\n",
       "      <th>surface_covered_in_m2</th>\n",
       "      <td>2103</td>\n",
       "      <td>0.110807</td>\n",
       "    </tr>\n",
       "    <tr>\n",
       "      <th>price_aprox_usd</th>\n",
       "      <td>1534</td>\n",
       "      <td>0.080826</td>\n",
       "    </tr>\n",
       "    <tr>\n",
       "      <th>lat-lon</th>\n",
       "      <td>0</td>\n",
       "      <td>0.000000</td>\n",
       "    </tr>\n",
       "    <tr>\n",
       "      <th>operation</th>\n",
       "      <td>0</td>\n",
       "      <td>0.000000</td>\n",
       "    </tr>\n",
       "    <tr>\n",
       "      <th>property_type</th>\n",
       "      <td>0</td>\n",
       "      <td>0.000000</td>\n",
       "    </tr>\n",
       "    <tr>\n",
       "      <th>place_with_parent_names</th>\n",
       "      <td>0</td>\n",
       "      <td>0.000000</td>\n",
       "    </tr>\n",
       "    <tr>\n",
       "      <th>comuna</th>\n",
       "      <td>0</td>\n",
       "      <td>0.000000</td>\n",
       "    </tr>\n",
       "    <tr>\n",
       "      <th>lat</th>\n",
       "      <td>0</td>\n",
       "      <td>0.000000</td>\n",
       "    </tr>\n",
       "    <tr>\n",
       "      <th>lon</th>\n",
       "      <td>0</td>\n",
       "      <td>0.000000</td>\n",
       "    </tr>\n",
       "    <tr>\n",
       "      <th>barrio</th>\n",
       "      <td>0</td>\n",
       "      <td>0.000000</td>\n",
       "    </tr>\n",
       "    <tr>\n",
       "      <th>properati_url</th>\n",
       "      <td>0</td>\n",
       "      <td>0.000000</td>\n",
       "    </tr>\n",
       "    <tr>\n",
       "      <th>created_on</th>\n",
       "      <td>0</td>\n",
       "      <td>0.000000</td>\n",
       "    </tr>\n",
       "  </tbody>\n",
       "</table>\n",
       "</div>"
      ],
      "text/plain": [
       "                         Total   Percent\n",
       "floor                    16223  0.854787\n",
       "expenses                 15164  0.798988\n",
       "rooms                     5462  0.287792\n",
       "price_usd_per_m2          2942  0.155013\n",
       "surface_total_in_m2       2393  0.126087\n",
       "surface_covered_in_m2     2103  0.110807\n",
       "price_aprox_usd           1534  0.080826\n",
       "lat-lon                      0  0.000000\n",
       "operation                    0  0.000000\n",
       "property_type                0  0.000000\n",
       "place_with_parent_names      0  0.000000\n",
       "comuna                       0  0.000000\n",
       "lat                          0  0.000000\n",
       "lon                          0  0.000000\n",
       "barrio                       0  0.000000\n",
       "properati_url                0  0.000000\n",
       "created_on                   0  0.000000"
      ]
     },
     "execution_count": 7,
     "metadata": {},
     "output_type": "execute_result"
    }
   ],
   "source": [
    "# Respuesta\n",
    "def draw_missing_data_table(df):\n",
    "    total = df.isnull().sum().sort_values(ascending=False)\n",
    "    percent = (df.isnull().sum()/df.isnull().count()).sort_values(ascending=False)\n",
    "    missing_data = pd.concat([total, percent], axis=1, keys=['Total', 'Percent'])\n",
    "    return missing_data\n",
    "\n",
    "properati.info()\n",
    "draw_missing_data_table(properati)"
   ]
  },
  {
   "cell_type": "markdown",
   "metadata": {},
   "source": [
    "## 2- Manejo de NaNs.\n",
    "Muchas veces no queremos eliminar las instancias que posean NaNs en algun atributo / feature. \n",
    "\n",
    "\n",
    "**a)** Les proponemos utilizar el imputer de Scikit-learn para reemplazar los valores faltantes con algún indicador estadústico. Por ejemplo, en la columna \"price_usd_per_m2\" podemos reemplazar los valores faltantes por la mediana (les parece correcta esta elección?)."
   ]
  },
  {
   "cell_type": "code",
   "execution_count": 8,
   "metadata": {},
   "outputs": [],
   "source": [
    "from sklearn.impute import SimpleImputer\n",
    "imp = SimpleImputer(missing_values=np.nan,strategy='median')# missing_values=np.nan, \n",
    "## Completar con la instruccion fit_transform. Utilizar como argumento properati[['price_aprox_usd']]\n",
    "properati_price_imp = imp.fit_transform(properati[['price_aprox_usd']])"
   ]
  },
  {
   "cell_type": "code",
   "execution_count": 9,
   "metadata": {},
   "outputs": [
    {
     "name": "stdout",
     "output_type": "stream",
     "text": [
      "[180000.]\n"
     ]
    },
    {
     "data": {
      "text/plain": [
       "price_aprox_usd    180000.0\n",
       "dtype: float64"
      ]
     },
     "execution_count": 9,
     "metadata": {},
     "output_type": "execute_result"
    }
   ],
   "source": [
    "print(imp.statistics_)\n",
    "draw_missing_data_table(properati)\n",
    "properati[['price_aprox_usd']].median()"
   ]
  },
  {
   "cell_type": "markdown",
   "metadata": {},
   "source": [
    "**b)** Chequear cuántas columnas tiene la variable \"properati_price_imp\". Tiene algún NaN?"
   ]
  },
  {
   "cell_type": "code",
   "execution_count": 10,
   "metadata": {},
   "outputs": [
    {
     "name": "stdout",
     "output_type": "stream",
     "text": [
      "(18979, 1)\n"
     ]
    },
    {
     "data": {
      "text/plain": [
       "0"
      ]
     },
     "execution_count": 10,
     "metadata": {},
     "output_type": "execute_result"
    }
   ],
   "source": [
    "### Respuesta\n",
    "print(properati_price_imp.shape)\n",
    "np.isnan(properati_price_imp).sum()"
   ]
  },
  {
   "cell_type": "markdown",
   "metadata": {},
   "source": [
    "**c)** Reemplazar los valores de la columna \"properati['price_aprox_usd']\"  por los valores de la variable \"properati_price_imp\"."
   ]
  },
  {
   "cell_type": "code",
   "execution_count": 11,
   "metadata": {},
   "outputs": [],
   "source": [
    "### Respuesta\n",
    "properati['price_aprox_usd']=properati_price_imp"
   ]
  },
  {
   "cell_type": "markdown",
   "metadata": {},
   "source": [
    "**d)** Responder:\n",
    "    - Cuáles son ahora las instancias con valores faltantes?\n",
    "    - Se modificó la mediana de la columna 'price_aprox_usd'? Por qué?\n",
    "    - Proponer (y NO efectuar) una estrategia para procesar otra columna con valores faltantes."
   ]
  },
  {
   "cell_type": "code",
   "execution_count": 12,
   "metadata": {},
   "outputs": [
    {
     "data": {
      "text/plain": [
       "180000.0"
      ]
     },
     "execution_count": 12,
     "metadata": {},
     "output_type": "execute_result"
    }
   ],
   "source": [
    "properati['price_aprox_usd'].median()"
   ]
  },
  {
   "cell_type": "markdown",
   "metadata": {},
   "source": [
    "**e)** Eliminar el resto de las features que tienen valores faltantes. "
   ]
  },
  {
   "cell_type": "code",
   "execution_count": 13,
   "metadata": {},
   "outputs": [
    {
     "data": {
      "text/html": [
       "<div>\n",
       "<style scoped>\n",
       "    .dataframe tbody tr th:only-of-type {\n",
       "        vertical-align: middle;\n",
       "    }\n",
       "\n",
       "    .dataframe tbody tr th {\n",
       "        vertical-align: top;\n",
       "    }\n",
       "\n",
       "    .dataframe thead th {\n",
       "        text-align: right;\n",
       "    }\n",
       "</style>\n",
       "<table border=\"1\" class=\"dataframe\">\n",
       "  <thead>\n",
       "    <tr style=\"text-align: right;\">\n",
       "      <th></th>\n",
       "      <th>created_on</th>\n",
       "      <th>operation</th>\n",
       "      <th>property_type</th>\n",
       "      <th>place_with_parent_names</th>\n",
       "      <th>lat-lon</th>\n",
       "      <th>lat</th>\n",
       "      <th>lon</th>\n",
       "      <th>price_aprox_usd</th>\n",
       "      <th>surface_total_in_m2</th>\n",
       "      <th>surface_covered_in_m2</th>\n",
       "      <th>price_usd_per_m2</th>\n",
       "      <th>floor</th>\n",
       "      <th>rooms</th>\n",
       "      <th>expenses</th>\n",
       "      <th>properati_url</th>\n",
       "      <th>barrio</th>\n",
       "      <th>comuna</th>\n",
       "    </tr>\n",
       "  </thead>\n",
       "  <tbody>\n",
       "    <tr>\n",
       "      <th>137</th>\n",
       "      <td>2017-09-10</td>\n",
       "      <td>sell</td>\n",
       "      <td>apartment</td>\n",
       "      <td>|Argentina|Capital Federal|Belgrano|</td>\n",
       "      <td>-34.5708522,-58.4411794</td>\n",
       "      <td>-34.570852</td>\n",
       "      <td>-58.441179</td>\n",
       "      <td>270000.0</td>\n",
       "      <td>185.0</td>\n",
       "      <td>80.0</td>\n",
       "      <td>1459.459459</td>\n",
       "      <td>1.0</td>\n",
       "      <td>3.0</td>\n",
       "      <td>5400.0</td>\n",
       "      <td>https://www.properati.com.ar/1el0x_venta_depar...</td>\n",
       "      <td>PALERMO</td>\n",
       "      <td>14.0</td>\n",
       "    </tr>\n",
       "    <tr>\n",
       "      <th>140</th>\n",
       "      <td>2017-09-10</td>\n",
       "      <td>sell</td>\n",
       "      <td>apartment</td>\n",
       "      <td>|Argentina|Capital Federal|Palermo|Palermo Hol...</td>\n",
       "      <td>-34.5832058,-58.4334675</td>\n",
       "      <td>-34.583206</td>\n",
       "      <td>-58.433468</td>\n",
       "      <td>123000.0</td>\n",
       "      <td>32.0</td>\n",
       "      <td>29.0</td>\n",
       "      <td>3843.750000</td>\n",
       "      <td>3.0</td>\n",
       "      <td>1.0</td>\n",
       "      <td>2600.0</td>\n",
       "      <td>https://www.properati.com.ar/1el2s_venta_depar...</td>\n",
       "      <td>PALERMO</td>\n",
       "      <td>14.0</td>\n",
       "    </tr>\n",
       "    <tr>\n",
       "      <th>176</th>\n",
       "      <td>2017-09-13</td>\n",
       "      <td>sell</td>\n",
       "      <td>apartment</td>\n",
       "      <td>|Argentina|Capital Federal|Belgrano|</td>\n",
       "      <td>-34.5630665,-58.4383467</td>\n",
       "      <td>-34.563066</td>\n",
       "      <td>-58.438347</td>\n",
       "      <td>268000.0</td>\n",
       "      <td>82.0</td>\n",
       "      <td>74.0</td>\n",
       "      <td>3268.292683</td>\n",
       "      <td>7.0</td>\n",
       "      <td>3.0</td>\n",
       "      <td>6400.0</td>\n",
       "      <td>https://www.properati.com.ar/1epbt_venta_depar...</td>\n",
       "      <td>PALERMO</td>\n",
       "      <td>14.0</td>\n",
       "    </tr>\n",
       "    <tr>\n",
       "      <th>177</th>\n",
       "      <td>2017-09-13</td>\n",
       "      <td>sell</td>\n",
       "      <td>apartment</td>\n",
       "      <td>|Argentina|Capital Federal|Belgrano|</td>\n",
       "      <td>-34.5630665,-58.4383467</td>\n",
       "      <td>-34.563066</td>\n",
       "      <td>-58.438347</td>\n",
       "      <td>268000.0</td>\n",
       "      <td>84.0</td>\n",
       "      <td>76.0</td>\n",
       "      <td>3190.476190</td>\n",
       "      <td>7.0</td>\n",
       "      <td>3.0</td>\n",
       "      <td>6400.0</td>\n",
       "      <td>https://www.properati.com.ar/1epbu_venta_depar...</td>\n",
       "      <td>PALERMO</td>\n",
       "      <td>14.0</td>\n",
       "    </tr>\n",
       "    <tr>\n",
       "      <th>180</th>\n",
       "      <td>2017-09-13</td>\n",
       "      <td>sell</td>\n",
       "      <td>apartment</td>\n",
       "      <td>|Argentina|Capital Federal|Palermo|</td>\n",
       "      <td>-34.5808658,-58.4384065</td>\n",
       "      <td>-34.580866</td>\n",
       "      <td>-58.438406</td>\n",
       "      <td>312000.0</td>\n",
       "      <td>98.0</td>\n",
       "      <td>91.0</td>\n",
       "      <td>3183.673469</td>\n",
       "      <td>2.0</td>\n",
       "      <td>4.0</td>\n",
       "      <td>9500.0</td>\n",
       "      <td>https://www.properati.com.ar/1epdp_venta_depar...</td>\n",
       "      <td>PALERMO</td>\n",
       "      <td>14.0</td>\n",
       "    </tr>\n",
       "  </tbody>\n",
       "</table>\n",
       "</div>"
      ],
      "text/plain": [
       "    created_on operation property_type  \\\n",
       "137 2017-09-10      sell     apartment   \n",
       "140 2017-09-10      sell     apartment   \n",
       "176 2017-09-13      sell     apartment   \n",
       "177 2017-09-13      sell     apartment   \n",
       "180 2017-09-13      sell     apartment   \n",
       "\n",
       "                               place_with_parent_names  \\\n",
       "137               |Argentina|Capital Federal|Belgrano|   \n",
       "140  |Argentina|Capital Federal|Palermo|Palermo Hol...   \n",
       "176               |Argentina|Capital Federal|Belgrano|   \n",
       "177               |Argentina|Capital Federal|Belgrano|   \n",
       "180                |Argentina|Capital Federal|Palermo|   \n",
       "\n",
       "                     lat-lon        lat        lon  price_aprox_usd  \\\n",
       "137  -34.5708522,-58.4411794 -34.570852 -58.441179         270000.0   \n",
       "140  -34.5832058,-58.4334675 -34.583206 -58.433468         123000.0   \n",
       "176  -34.5630665,-58.4383467 -34.563066 -58.438347         268000.0   \n",
       "177  -34.5630665,-58.4383467 -34.563066 -58.438347         268000.0   \n",
       "180  -34.5808658,-58.4384065 -34.580866 -58.438406         312000.0   \n",
       "\n",
       "     surface_total_in_m2  surface_covered_in_m2  price_usd_per_m2  floor  \\\n",
       "137                185.0                   80.0       1459.459459    1.0   \n",
       "140                 32.0                   29.0       3843.750000    3.0   \n",
       "176                 82.0                   74.0       3268.292683    7.0   \n",
       "177                 84.0                   76.0       3190.476190    7.0   \n",
       "180                 98.0                   91.0       3183.673469    2.0   \n",
       "\n",
       "     rooms  expenses                                      properati_url  \\\n",
       "137    3.0    5400.0  https://www.properati.com.ar/1el0x_venta_depar...   \n",
       "140    1.0    2600.0  https://www.properati.com.ar/1el2s_venta_depar...   \n",
       "176    3.0    6400.0  https://www.properati.com.ar/1epbt_venta_depar...   \n",
       "177    3.0    6400.0  https://www.properati.com.ar/1epbu_venta_depar...   \n",
       "180    4.0    9500.0  https://www.properati.com.ar/1epdp_venta_depar...   \n",
       "\n",
       "      barrio  comuna  \n",
       "137  PALERMO    14.0  \n",
       "140  PALERMO    14.0  \n",
       "176  PALERMO    14.0  \n",
       "177  PALERMO    14.0  \n",
       "180  PALERMO    14.0  "
      ]
     },
     "execution_count": 13,
     "metadata": {},
     "output_type": "execute_result"
    }
   ],
   "source": [
    "properati.dropna(how='any').head()"
   ]
  },
  {
   "cell_type": "markdown",
   "metadata": {},
   "source": [
    "## 3- Extrayendo informacion util\n",
    "\n",
    "Los algoritmos de aprendizaje automático que utilizaremos reconocerán patrones en los atributos (o combinaciones de ellos) que les introduzcamos. Entonces, la calidad de funcionamiento del algoritmo esta íntimamente relacionada al preprocesamiento de estos atributos. \n",
    "\n",
    "\n",
    "En este caso, las variables del grupo \"Fechas - Hora - Ubicacion\" pocas veces nos dan la información que queremos y muchas veces hay que reescribirlas. Les proponemos crear **nuevas features** de las cuales sea mas fácil extraer informacion. \n",
    "\n",
    "\n",
    "**a)** Les proponemos crear 3 features nuevas, una con el año en que fue publicada cada casa, otra con el mes, y otra con el día. Tomamos como materia prima la información de la columna 'created_on'.\n",
    "\n",
    "Les mostramos un ejemplo creando la columna \"anio\", y les proponemos que hagan \"mes\" y \"dias\" por su cuenta."
   ]
  },
  {
   "cell_type": "code",
   "execution_count": 14,
   "metadata": {},
   "outputs": [],
   "source": [
    "properati['anio'] = pd.DataFrame((properati['created_on'].map(lambda x: x.year)))\n"
   ]
  },
  {
   "cell_type": "markdown",
   "metadata": {},
   "source": [
    "### 4- Manipulación de variables categóricas nominales (o dummies).\n",
    "Usando LabelEncoder de Scikit-learn podemos transformar nuestras variables categóricas en numéricas sin pasar por variables dummies. Luego, vamos a utilizar OneHotEncoder para transformar las categorías numéricas en categorías binarias.\n",
    "\n",
    "\n",
    "Nos centraremos en la columna 'property_type'."
   ]
  },
  {
   "cell_type": "code",
   "execution_count": 15,
   "metadata": {},
   "outputs": [
    {
     "data": {
      "text/plain": [
       "0    house\n",
       "1    store\n",
       "2    store\n",
       "3    store\n",
       "4    store\n",
       "Name: property_type, dtype: object"
      ]
     },
     "execution_count": 15,
     "metadata": {},
     "output_type": "execute_result"
    }
   ],
   "source": [
    "from sklearn.preprocessing import LabelEncoder\n",
    "from sklearn.preprocessing import OneHotEncoder\n",
    "\n",
    " \n",
    "(properati['property_type']).head()\n"
   ]
  },
  {
   "cell_type": "code",
   "execution_count": 16,
   "metadata": {},
   "outputs": [
    {
     "data": {
      "text/plain": [
       "LabelEncoder()"
      ]
     },
     "execution_count": 16,
     "metadata": {},
     "output_type": "execute_result"
    }
   ],
   "source": [
    "# Llamamos al algoritmo\n",
    "le_prop_type = LabelEncoder()\n",
    "# Lo fiteamos con las categorias que tenemos en nuestro dataset.\n",
    "le_prop_type.fit(properati['property_type'])"
   ]
  },
  {
   "cell_type": "code",
   "execution_count": 17,
   "metadata": {},
   "outputs": [
    {
     "data": {
      "text/plain": [
       "array(['PH', 'apartment', 'house', 'store'], dtype=object)"
      ]
     },
     "execution_count": 17,
     "metadata": {},
     "output_type": "execute_result"
    }
   ],
   "source": [
    "# Estas son las categorias que eligio el algoritmo. Les asignara un numero a cada categoria, \n",
    "# yendo de izquierda a derecha [recordemos que python cuenta desde 0]\n",
    "le_prop_type.classes_"
   ]
  },
  {
   "cell_type": "code",
   "execution_count": 18,
   "metadata": {},
   "outputs": [],
   "source": [
    "#Transformamos la categoria \"property_type\" en numeros.\n",
    "cat_prop_type = le_prop_type.transform(properati['property_type'])"
   ]
  },
  {
   "cell_type": "code",
   "execution_count": 19,
   "metadata": {},
   "outputs": [
    {
     "name": "stdout",
     "output_type": "stream",
     "text": [
      "[2 3 3 ... 3 1 1]\n"
     ]
    },
    {
     "data": {
      "text/plain": [
       "[<matplotlib.lines.Line2D at 0xf8a795b148>]"
      ]
     },
     "execution_count": 19,
     "metadata": {},
     "output_type": "execute_result"
    },
    {
     "data": {
      "image/png": "[encoded data removed]",
      "text/plain": [
       "<Figure size 432x288 with 1 Axes>"
      ]
     },
     "metadata": {
      "needs_background": "light"
     },
     "output_type": "display_data"
    }
   ],
   "source": [
    "#Les proponemos formas de visualizar que hizo sckit-learn\n",
    "print(cat_prop_type)\n",
    "plt.plot(cat_prop_type,'o')"
   ]
  },
  {
   "cell_type": "code",
   "execution_count": 20,
   "metadata": {},
   "outputs": [],
   "source": [
    "# Actualizamos el viejo dataset\n",
    "#properati['property_type'] = cat_prop_type"
   ]
  },
  {
   "cell_type": "markdown",
   "metadata": {},
   "source": [
    "Ahora vamos a transformar las categorías numéricas que acabamos de definir, en binarias. De lo contrario, el algoritmo de ML que vayamos a usar las interpretaria como variables categoricas ordinales [y no lo son!]."
   ]
  },
  {
   "cell_type": "code",
   "execution_count": 21,
   "metadata": {},
   "outputs": [
    {
     "name": "stdout",
     "output_type": "stream",
     "text": [
      "[[2]\n",
      " [3]\n",
      " [3]\n",
      " ...\n",
      " [3]\n",
      " [1]\n",
      " [1]]\n"
     ]
    }
   ],
   "source": [
    "onehot_encoder = OneHotEncoder(sparse = False)\n",
    "# No olvidemos que hay que cambiarle las dimensiones al set de etrenamiento del OneHotEncoder!\n",
    "cat_prop_type_rs = cat_prop_type.reshape(-1,1)\n",
    "print(cat_prop_type_rs)"
   ]
  },
  {
   "cell_type": "code",
   "execution_count": 22,
   "metadata": {},
   "outputs": [
    {
     "name": "stdout",
     "output_type": "stream",
     "text": [
      "[[0. 0. 1. 0.]\n",
      " [0. 0. 0. 1.]\n",
      " [0. 0. 0. 1.]\n",
      " ...\n",
      " [0. 0. 0. 1.]\n",
      " [0. 1. 0. 0.]\n",
      " [0. 1. 0. 0.]]\n"
     ]
    }
   ],
   "source": [
    "#Como estamos cancheres, realizamos directamente el fit y transform juntos!\n",
    "cat_prop_type_encoded = onehot_encoder.fit_transform(cat_prop_type_rs)\n",
    "print(cat_prop_type_encoded)"
   ]
  },
  {
   "cell_type": "markdown",
   "metadata": {},
   "source": [
    "**a)** RESPONDER:\n",
    "\n",
    "    - Por qué la variable 'cat_prop_type_encoded' tiene esa forma? Qué significa cada cosa? \n",
    "    - Podriamos haber usado el OneHotEncoder sin utilizar primero el LabelEncoder?"
   ]
  },
  {
   "cell_type": "code",
   "execution_count": 23,
   "metadata": {},
   "outputs": [
    {
     "name": "stdout",
     "output_type": "stream",
     "text": [
      "[[0. 0. 1. 0.]\n",
      " [0. 0. 0. 1.]\n",
      " [0. 0. 0. 1.]\n",
      " ...\n",
      " [0. 0. 0. 1.]\n",
      " [0. 1. 0. 0.]\n",
      " [0. 1. 0. 0.]]\n"
     ]
    }
   ],
   "source": [
    "print(cat_prop_type_encoded)\n",
    "#cada columna es una categoría\n",
    "#si se podría haber usado solo OneHotEncoder"
   ]
  },
  {
   "cell_type": "markdown",
   "metadata": {},
   "source": [
    "**b)** Scikit-learn tiene una excelente documentacion. Te proponemos que lo chequees por vos misme. Te proponemos que explores https://scikit-learn.org/stable/modules/generated/sklearn.preprocessing.OneHotEncoder.html. Qué funciones tiene? Qué te parece que hace la función *inverse_transform*?"
   ]
  },
  {
   "cell_type": "code",
   "execution_count": 24,
   "metadata": {},
   "outputs": [],
   "source": [
    "#TE VUELVE A MOSTRAR LAS CATEGORÍAS"
   ]
  },
  {
   "cell_type": "code",
   "execution_count": null,
   "metadata": {},
   "outputs": [],
   "source": []
  }
 ],
 "metadata": {
  "kernelspec": {
   "display_name": "Python 3",
   "language": "python",
   "name": "python3"
  },
  "language_info": {
   "codemirror_mode": {
    "name": "ipython",
    "version": 3
   },
   "file_extension": ".py",
   "mimetype": "text/x-python",
   "name": "python",
   "nbconvert_exporter": "python",
   "pygments_lexer": "ipython3",
   "version": "3.7.9"
  }
 },
 "nbformat": 4,
 "nbformat_minor": 4
}
