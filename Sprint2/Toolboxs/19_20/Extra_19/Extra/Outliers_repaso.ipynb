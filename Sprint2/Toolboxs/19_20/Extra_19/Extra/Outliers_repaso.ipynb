{
 "cells": [
  {
   "cell_type": "markdown",
   "metadata": {
    "colab_type": "text",
    "id": "uyfNwvJ1SW-z"
   },
   "source": [
    "# Importar librerias"
   ]
  },
  {
   "cell_type": "markdown",
   "metadata": {
    "colab_type": "text",
    "id": "aFRko3lrSW-0"
   },
   "source": [
    "- pandas\n",
    "- matplotlib.pyplot\n",
    "- seaborn"
   ]
  },
  {
   "cell_type": "code",
   "execution_count": 1,
   "metadata": {
    "colab": {},
    "colab_type": "code",
    "id": "h3Jfc8vwSW-1"
   },
   "outputs": [],
   "source": [
    "import pandas as pd\n",
    "import matplotlib.pyplot as plt\n",
    "import seaborn as sns\n",
    "import numpy as np\n",
    "\n",
    "import scipy.stats as stats"
   ]
  },
  {
   "cell_type": "markdown",
   "metadata": {
    "colab_type": "text",
    "id": "q04kmByuSW-4"
   },
   "source": [
    "# Cargar datos"
   ]
  },
  {
   "cell_type": "markdown",
   "metadata": {
    "colab_type": "text",
    "id": "nPgFJUhaSW-5"
   },
   "source": [
    "Cargar el archivo `mediciones.csv`"
   ]
  },
  {
   "cell_type": "code",
   "execution_count": 2,
   "metadata": {
    "colab": {},
    "colab_type": "code",
    "id": "nwANJh-1SW-5"
   },
   "outputs": [],
   "source": [
    "mediciones= pd.read_csv('mediciones.csv',sep=' ')"
   ]
  },
  {
   "cell_type": "markdown",
   "metadata": {
    "colab_type": "text",
    "id": "IkoCm_vuSW-8"
   },
   "source": [
    "Ver que tipo de datos contiene"
   ]
  },
  {
   "cell_type": "code",
   "execution_count": 3,
   "metadata": {
    "colab": {},
    "colab_type": "code",
    "id": "3QH6WpHfSW-9",
    "outputId": "403caf3d-1fba-4ae6-9c0b-cc8317aa8640"
   },
   "outputs": [
    {
     "data": {
      "text/html": [
       "<div>\n",
       "<style scoped>\n",
       "    .dataframe tbody tr th:only-of-type {\n",
       "        vertical-align: middle;\n",
       "    }\n",
       "\n",
       "    .dataframe tbody tr th {\n",
       "        vertical-align: top;\n",
       "    }\n",
       "\n",
       "    .dataframe thead th {\n",
       "        text-align: right;\n",
       "    }\n",
       "</style>\n",
       "<table border=\"1\" class=\"dataframe\">\n",
       "  <thead>\n",
       "    <tr style=\"text-align: right;\">\n",
       "      <th></th>\n",
       "      <th>tiempo</th>\n",
       "      <th>voltaje</th>\n",
       "    </tr>\n",
       "  </thead>\n",
       "  <tbody>\n",
       "    <tr>\n",
       "      <th>0</th>\n",
       "      <td>2.068966</td>\n",
       "      <td>9.53</td>\n",
       "    </tr>\n",
       "    <tr>\n",
       "      <th>1</th>\n",
       "      <td>4.137931</td>\n",
       "      <td>9.51</td>\n",
       "    </tr>\n",
       "    <tr>\n",
       "      <th>2</th>\n",
       "      <td>6.206897</td>\n",
       "      <td>9.49</td>\n",
       "    </tr>\n",
       "    <tr>\n",
       "      <th>3</th>\n",
       "      <td>8.275862</td>\n",
       "      <td>9.48</td>\n",
       "    </tr>\n",
       "    <tr>\n",
       "      <th>4</th>\n",
       "      <td>10.344828</td>\n",
       "      <td>9.50</td>\n",
       "    </tr>\n",
       "  </tbody>\n",
       "</table>\n",
       "</div>"
      ],
      "text/plain": [
       "      tiempo  voltaje\n",
       "0   2.068966     9.53\n",
       "1   4.137931     9.51\n",
       "2   6.206897     9.49\n",
       "3   8.275862     9.48\n",
       "4  10.344828     9.50"
      ]
     },
     "execution_count": 3,
     "metadata": {},
     "output_type": "execute_result"
    }
   ],
   "source": [
    "mediciones.head()\n"
   ]
  },
  {
   "cell_type": "markdown",
   "metadata": {
    "colab_type": "text",
    "id": "RlI127y8SW_B"
   },
   "source": [
    "*Q-Q PLOT*"
   ]
  },
  {
   "cell_type": "code",
   "execution_count": 4,
   "metadata": {
    "colab": {},
    "colab_type": "code",
    "id": "u9O2pGqMSW_C",
    "outputId": "beede207-6cf7-4b7f-8a23-983d9b9433df"
   },
   "outputs": [
    {
     "data": {
      "image/png": "[encoded data removed]",
      "text/plain": [
       "<Figure size 432x288 with 1 Axes>"
      ]
     },
     "metadata": {
      "needs_background": "light"
     },
     "output_type": "display_data"
    }
   ],
   "source": [
    "stats.probplot(mediciones.voltaje, dist=\"norm\", sparams=(2.5,),plot=plt)\n",
    "plt.show()"
   ]
  },
  {
   "cell_type": "markdown",
   "metadata": {
    "colab_type": "text",
    "id": "I_XhETf7SW_F"
   },
   "source": [
    "*Test Kolmogorov-Smirnov* "
   ]
  },
  {
   "cell_type": "code",
   "execution_count": 5,
   "metadata": {
    "colab": {},
    "colab_type": "code",
    "id": "6WyeU_WJSW_G",
    "outputId": "ca0796b7-f8c0-44a6-8f93-a1a06bcab9df"
   },
   "outputs": [
    {
     "data": {
      "text/plain": [
       "KstestResult(statistic=1.0, pvalue=0.0)"
      ]
     },
     "execution_count": 5,
     "metadata": {},
     "output_type": "execute_result"
    }
   ],
   "source": [
    "stats.kstest(mediciones.voltaje, 'norm')"
   ]
  },
  {
   "cell_type": "markdown",
   "metadata": {
    "colab_type": "text",
    "id": "c7ooOjdbSW_J"
   },
   "source": [
    "# Outliers"
   ]
  },
  {
   "cell_type": "markdown",
   "metadata": {
    "colab_type": "text",
    "id": "-Pjm-GG1SW_J"
   },
   "source": [
    "## Metodo intercuantil"
   ]
  },
  {
   "cell_type": "markdown",
   "metadata": {
    "colab_type": "text",
    "id": "fbOxJrScSW_K"
   },
   "source": [
    "Calcular:\n",
    "-  Q1 y Q3\n",
    "- IQR\n",
    "- Q1 - 1.5 * IQR\n",
    "- Q3 + 1.5 * IQR"
   ]
  },
  {
   "cell_type": "code",
   "execution_count": 6,
   "metadata": {
    "colab": {},
    "colab_type": "code",
    "id": "CV2bmFTlSW_L",
    "outputId": "8948d852-2379-4a01-9de0-bfeca4bb5701"
   },
   "outputs": [
    {
     "name": "stdout",
     "output_type": "stream",
     "text": [
      "0.25\n",
      "Q1:  9.48\n",
      "Q3:  9.73\n",
      "IQR:  0.25\n",
      "Umbral menor:  9.105\n",
      "Umbral mayor:  10.105\n"
     ]
    }
   ],
   "source": [
    "# vamos a hacer en un solo paso este cálculo\n",
    "# para todas las variables en el data frame\n",
    "\n",
    "Q1 = mediciones[\"voltaje\"].quantile(0.25)\n",
    "Q3 = mediciones[\"voltaje\"].quantile(0.75)\n",
    "IQR = Q3 - Q1\n",
    "print(IQR)\n",
    "\n",
    "Q1 = np.percentile( mediciones[\"voltaje\"], 25)\n",
    "Q3 = np.percentile( mediciones[\"voltaje\"], 75)\n",
    "IQR = Q3 - Q1\n",
    "print(\"Q1: \", Q1)\n",
    "print(\"Q3: \", Q3)\n",
    "print(\"IQR: \", IQR)\n",
    "print(\"Umbral menor: \", Q1 - IQR*1.5)\n",
    "print(\"Umbral mayor: \", Q3 + IQR*1.5)"
   ]
  },
  {
   "cell_type": "markdown",
   "metadata": {
    "colab_type": "text",
    "id": "vWJ_4jFLSW_O"
   },
   "source": [
    "Cuantos outliers hay en total (puntos mas alla de los \"bigotes\")"
   ]
  },
  {
   "cell_type": "code",
   "execution_count": 7,
   "metadata": {
    "colab": {},
    "colab_type": "code",
    "id": "9qjudqBrSW_P",
    "outputId": "96e0f3cb-c797-4b12-8984-86224df6ffb0"
   },
   "outputs": [
    {
     "data": {
      "text/plain": [
       "381"
      ]
     },
     "execution_count": 7,
     "metadata": {},
     "output_type": "execute_result"
    }
   ],
   "source": [
    "# para ver cuántos outliers identificamos\n",
    "outliers_df = (mediciones.voltaje < (Q1 - 1.5 * IQR)) |(mediciones.voltaje> (Q3 + 1.5 * IQR))\n",
    "outliers_df.sum()"
   ]
  },
  {
   "cell_type": "markdown",
   "metadata": {
    "colab_type": "text",
    "id": "BD2B7rWWSW_R"
   },
   "source": [
    "### Z-Score\n",
    "\n",
    "Sea una variable $X$ tal que sige una distribución de tipo Normal con media $\\mu$ y desviación estándar $\\sigma$. Es decir:\n",
    "\n",
    "$$X \\sim N(\\mu,\\sigma)$$\n",
    "\n",
    "Comunmente se representa con el nombre Z a la variable estandarizada:\n",
    "\n",
    "$$ Z = \\frac{X - \\mu}{\\sigma} $$\n",
    "\n",
    "La intuición detrás del Z-score es describir cualquier punto de datos encontrando su relación con la desviación estándar y la media. Es correr la media de los datos a 0 y la desviación estándar es 1, como en la distribución normal estándar.\n",
    "\n",
    "¿cómo ayuda esto a identificar los valores atípicos?\n",
    "Cuando calculamos el  Z-Score cambiamos la escala, centramos los datos y buscamos valores que se encuentren muy lejos de cero. Estos casos que están muy lejos de cero serán tratados como valores atípicos. Comunmente se utiliza un umbral de -3 y 3, es decir, si el valor del Z-Score es menor que -3 o mayor que 3, es considerado outlier.\n",
    "\n",
    "Nota: recordar que en la clase pasada vimos que el 99,75% de las observaciones se encuentran entre -3 y 3.\n",
    "\n",
    "<img src=\"https://cdn-images-1.medium.com/max/2600/1*IdGgdrY_n_9_YfkaCh-dag.png\" width=\"400\">\n",
    "\n",
    "\n",
    "## Ejercicio:\n",
    "\n",
    "Calcular el z-score para todos los datos y ver cuantos:\n",
    "- superan el 95% y 99%\n",
    "- estan por debajo del 5% y 1%"
   ]
  },
  {
   "cell_type": "code",
   "execution_count": 8,
   "metadata": {
    "colab": {},
    "colab_type": "code",
    "id": "RtqL3Fb8SW_S",
    "outputId": "c3d485d6-f533-4087-a0b8-d663c2576fb2"
   },
   "outputs": [
    {
     "data": {
      "text/plain": [
       "array([-0.32673054, -0.37948534, -0.43224015, -0.45861755, -0.40586275])"
      ]
     },
     "execution_count": 8,
     "metadata": {},
     "output_type": "execute_result"
    }
   ],
   "source": [
    "from scipy import stats\n",
    "import numpy as np\n",
    "\n",
    "#Construyo dataset transformado\n",
    "z_dis = stats.zscore(mediciones.voltaje)\n",
    "z_dis[0:5]"
   ]
  },
  {
   "cell_type": "code",
   "execution_count": 9,
   "metadata": {
    "colab": {},
    "colab_type": "code",
    "id": "YfTioVzeSW_V",
    "outputId": "33269759-f2e0-4d3b-b9bc-4375e2f9458b"
   },
   "outputs": [
    {
     "name": "stdout",
     "output_type": "stream",
     "text": [
      "Minimo: -1.6983554772589862 \n",
      "\n",
      "Maximo: 7.771132090533057\n"
     ]
    }
   ],
   "source": [
    "print(\"Minimo:\", z_dis.min(), '\\n')\n",
    "print(\"Maximo:\", z_dis.max())"
   ]
  },
  {
   "cell_type": "code",
   "execution_count": 10,
   "metadata": {
    "colab": {},
    "colab_type": "code",
    "id": "3g6_exusSW_Y",
    "outputId": "fdff5f40-8c59-4de7-a401-51a4b21f802d"
   },
   "outputs": [
    {
     "name": "stdout",
     "output_type": "stream",
     "text": [
      "(array([  182,   183,   184,   185,   186,   187,   443,   444,   445,\n",
      "         446,   447,   448,   449,   450,   713,   714,   715,   716,\n",
      "         717,   718,   988,   989,   990,   991,   992,   993,   994,\n",
      "         995,  1262,  1263,  1264,  1265,  1266,  1267,  1268,  1549,\n",
      "        1550,  1551,  1552,  1553,  1554,  1845,  1846,  1847,  1848,\n",
      "        1849,  1850,  2132,  2133,  2134,  2135,  2136,  2137,  2138,\n",
      "        2398,  2399,  2400,  2401,  2402,  2403,  2404,  2405,  2666,\n",
      "        2667,  2668,  2669,  2670,  2671,  2939,  2940,  2941,  2942,\n",
      "        2943,  2944,  3215,  3216,  3217,  3218,  3219,  3220,  3497,\n",
      "        3498,  3499,  3500,  3501,  3502,  3503,  3883,  3884,  3885,\n",
      "        3886,  3887,  3888,  4182,  4183,  4184,  4185,  4186,  4187,\n",
      "        4188,  4465,  4466,  4467,  4468,  4469,  4470,  4471,  4756,\n",
      "        4757,  4758,  4759,  4760,  4761,  4762,  5053,  5054,  5055,\n",
      "        5056,  5057,  5058,  5339,  5340,  5341,  5342,  5343,  5344,\n",
      "        5607,  5608,  5609,  5610,  5611,  5612,  5879,  5880,  5881,\n",
      "        5882,  5883,  5884,  5885,  6182,  6183,  6184,  6185,  6186,\n",
      "        6187,  6188,  6488,  6489,  6490,  6491,  6492,  6493,  6494,\n",
      "        6767,  6768,  6769,  6770,  6771,  6772,  6773,  7050,  7051,\n",
      "        7052,  7053,  7054,  7055,  7056,  7316,  7317,  7318,  7319,\n",
      "        7320,  7321,  7585,  7586,  7587,  7588,  7589,  7590,  7591,\n",
      "        7592,  7852,  7853,  7854,  7855,  7856,  7857,  7858,  8111,\n",
      "        8112,  8113,  8114,  8115,  8116,  8117,  8371,  8372,  8373,\n",
      "        8374,  8375,  8376,  8629,  8630,  8631,  8632,  8633,  8634,\n",
      "        8877,  8878,  8879,  8880,  8881,  8882,  9129,  9130,  9131,\n",
      "        9132,  9133,  9134,  9385,  9386,  9387,  9388,  9389,  9390,\n",
      "        9391,  9640,  9641,  9642,  9643,  9644,  9645,  9646,  9905,\n",
      "        9906,  9907,  9908,  9909,  9910,  9911, 10189, 10190, 10191,\n",
      "       10192, 10193, 10194, 10458, 10459, 10460, 10461, 10462, 10463,\n",
      "       10464, 10726, 10727, 10728, 10729, 10730, 10731, 10732]),)\n"
     ]
    }
   ],
   "source": [
    "# Vamos a considerar como outliers:\n",
    "# casos menores que -3\n",
    "# casos mayores que 3\n",
    "# voy a definir un valor de threshold=3\n",
    "threshold = 3\n",
    "# imprimo casos cuyo valor absoluto es > 3\n",
    "print(np.where(np.abs(z_dis) > threshold)) "
   ]
  },
  {
   "cell_type": "markdown",
   "metadata": {
    "colab_type": "text",
    "id": "NkQc3EbuSW_a"
   },
   "source": [
    "## Visual con boxplot"
   ]
  },
  {
   "cell_type": "markdown",
   "metadata": {
    "colab_type": "text",
    "id": "s7-2BNqFSW_b"
   },
   "source": [
    "Hacer un boxplot para ver los outliers de la variable medida (voltaje)"
   ]
  },
  {
   "cell_type": "code",
   "execution_count": 11,
   "metadata": {
    "colab": {},
    "colab_type": "code",
    "id": "3LuftU-cSW_c",
    "outputId": "f6a5f1df-a91a-42fd-fcaf-477d76114822"
   },
   "outputs": [
    {
     "data": {
      "text/plain": [
       "<matplotlib.axes._subplots.AxesSubplot at 0x7f2d1a36ceb0>"
      ]
     },
     "execution_count": 11,
     "metadata": {},
     "output_type": "execute_result"
    },
    {
     "data": {
      "image/png": "[encoded data removed]",
      "text/plain": [
       "<Figure size 432x288 with 1 Axes>"
      ]
     },
     "metadata": {
      "needs_background": "light"
     },
     "output_type": "display_data"
    }
   ],
   "source": [
    "sns.boxplot(x = mediciones.voltaje)"
   ]
  },
  {
   "cell_type": "markdown",
   "metadata": {
    "colab_type": "text",
    "id": "vGt-h_LcSW_i"
   },
   "source": [
    "La cantidad de outliers que aparecen es consistente con el resultado analitico? \n",
    "\n",
    "Hacer un scatterplot de voltaje vs tiempo para visualizar la señal de otra manera."
   ]
  },
  {
   "cell_type": "code",
   "execution_count": 12,
   "metadata": {
    "colab": {},
    "colab_type": "code",
    "id": "Z4Hi2d8FSW_j",
    "outputId": "722f0f30-67d8-48c6-f8b4-d7a2bd9ba195"
   },
   "outputs": [
    {
     "data": {
      "text/plain": [
       "<matplotlib.axes._subplots.AxesSubplot at 0x7f2d1a2dc2b0>"
      ]
     },
     "execution_count": 12,
     "metadata": {},
     "output_type": "execute_result"
    },
    {
     "data": {
      "image/png": "[encoded data removed]",
      "text/plain": [
       "<Figure size 432x288 with 1 Axes>"
      ]
     },
     "metadata": {
      "needs_background": "light"
     },
     "output_type": "display_data"
    }
   ],
   "source": [
    "sns.scatterplot(mediciones.tiempo,mediciones.voltaje)"
   ]
  },
  {
   "cell_type": "markdown",
   "metadata": {
    "colab_type": "text",
    "id": "opM-YdZSSW_m"
   },
   "source": [
    "Hacer un plot con lineas del mismo grafico"
   ]
  },
  {
   "cell_type": "code",
   "execution_count": 13,
   "metadata": {
    "colab": {},
    "colab_type": "code",
    "id": "Sd_adJAiSW_n",
    "outputId": "249c19e3-cb76-48ab-db61-e743cf3c4cd6"
   },
   "outputs": [
    {
     "data": {
      "text/plain": [
       "[<matplotlib.lines.Line2D at 0x7f2d1a2133d0>]"
      ]
     },
     "execution_count": 13,
     "metadata": {},
     "output_type": "execute_result"
    },
    {
     "data": {
      "image/png": "[encoded data removed]",
      "text/plain": [
       "<Figure size 432x288 with 1 Axes>"
      ]
     },
     "metadata": {
      "needs_background": "light"
     },
     "output_type": "display_data"
    }
   ],
   "source": [
    "plt.plot(mediciones.tiempo,mediciones.voltaje)"
   ]
  },
  {
   "cell_type": "markdown",
   "metadata": {
    "colab_type": "text",
    "id": "tW39EnvTSW_p"
   },
   "source": [
    "Hacer un zoom del plot solo con los primeros 1000 datos"
   ]
  },
  {
   "cell_type": "code",
   "execution_count": 14,
   "metadata": {
    "colab": {},
    "colab_type": "code",
    "id": "BdIWPAj0SW_q",
    "outputId": "38eb2eb8-d056-47f1-c220-379ce50e5e71"
   },
   "outputs": [
    {
     "data": {
      "text/plain": [
       "[<matplotlib.lines.Line2D at 0x7f2d1a1e3d00>]"
      ]
     },
     "execution_count": 14,
     "metadata": {},
     "output_type": "execute_result"
    },
    {
     "data": {
      "image/png": "[encoded data removed]",
      "text/plain": [
       "<Figure size 432x288 with 1 Axes>"
      ]
     },
     "metadata": {
      "needs_background": "light"
     },
     "output_type": "display_data"
    }
   ],
   "source": [
    "plt.plot(mediciones.tiempo[0:1000],mediciones.voltaje[0:1000])"
   ]
  },
  {
   "cell_type": "markdown",
   "metadata": {
    "colab_type": "text",
    "id": "SvRFNkaCSW_t"
   },
   "source": [
    "### Electrocardiograma"
   ]
  },
  {
   "cell_type": "markdown",
   "metadata": {
    "colab_type": "text",
    "id": "vBlmyATESW_t"
   },
   "source": [
    "Es un electrocardiograma!  \n",
    "\n",
    "Los outliers son los picos de la señal. Hubiese sido incorrecto eliminarlos o corregir su valor.\n",
    "\n",
    "Un dato util a extraer es el tiempo entre picos. La pregunta es como hacerlo.\n",
    "\n",
    "Opciones:\n",
    "* Filtrar el dataframe con un umbral de voltaje\n",
    "    * Este metodo podria no ser preciso \n",
    "* Buscar los picos y luego el indice donde hay un maximo dentro de el\n",
    "    * a veces conviene empezar a buscarlos manualmente y luego tratar de ir generalizando el metodo para llevarlo a un proceso automatico.\n",
    "\n",
    "Este proceso es el mas trabajoso de este analisis. Hay que usar la imaginacion y la cabeza. :)\n",
    "\n"
   ]
  },
  {
   "cell_type": "markdown",
   "metadata": {
    "colab_type": "text",
    "id": "Jw4qOYSBSW_u"
   },
   "source": [
    "### Seleccion por umbral"
   ]
  },
  {
   "cell_type": "markdown",
   "metadata": {
    "colab_type": "text",
    "id": "qZCS1ZEdSW_v"
   },
   "source": [
    "Seleccionemos todos los puntos donde el voltaje supera un valor fijo"
   ]
  },
  {
   "cell_type": "code",
   "execution_count": 15,
   "metadata": {
    "colab": {},
    "colab_type": "code",
    "id": "4bjdoLNtSW_w"
   },
   "outputs": [],
   "source": [
    "seleccion = mediciones.voltaje > 11.5"
   ]
  },
  {
   "cell_type": "markdown",
   "metadata": {
    "colab_type": "text",
    "id": "tw_xTbD8SW_z"
   },
   "source": [
    "Creamos un nuevo dataframe con solo las filas que nos interesan"
   ]
  },
  {
   "cell_type": "code",
   "execution_count": 16,
   "metadata": {
    "colab": {},
    "colab_type": "code",
    "id": "TjLNCLqESW_0"
   },
   "outputs": [],
   "source": [
    "df2 = mediciones.loc[seleccion]"
   ]
  },
  {
   "cell_type": "markdown",
   "metadata": {
    "colab_type": "text",
    "id": "WPgQqSbHSW_3"
   },
   "source": [
    "Veamos el plot de las primeras 50 filas"
   ]
  },
  {
   "cell_type": "code",
   "execution_count": 17,
   "metadata": {
    "colab": {},
    "colab_type": "code",
    "id": "0NxD8imiSW_3",
    "outputId": "495f0181-cf52-4b9b-d397-a34050bad07c"
   },
   "outputs": [
    {
     "data": {
      "text/plain": [
       "[<matplotlib.lines.Line2D at 0x7f2d1a1425b0>]"
      ]
     },
     "execution_count": 17,
     "metadata": {},
     "output_type": "execute_result"
    },
    {
     "data": {
      "image/png": "[encoded data removed]",
      "text/plain": [
       "<Figure size 432x288 with 1 Axes>"
      ]
     },
     "metadata": {
      "needs_background": "light"
     },
     "output_type": "display_data"
    }
   ],
   "source": [
    "plt.plot(df2.tiempo[:50], df2.voltaje[:50], \"-\")"
   ]
  },
  {
   "cell_type": "code",
   "execution_count": 18,
   "metadata": {
    "colab": {},
    "colab_type": "code",
    "id": "tnWAV3FpSW_6",
    "outputId": "991012a8-c10e-4457-a46c-b5aee79020bd"
   },
   "outputs": [
    {
     "data": {
      "text/html": [
       "<div>\n",
       "<style scoped>\n",
       "    .dataframe tbody tr th:only-of-type {\n",
       "        vertical-align: middle;\n",
       "    }\n",
       "\n",
       "    .dataframe tbody tr th {\n",
       "        vertical-align: top;\n",
       "    }\n",
       "\n",
       "    .dataframe thead th {\n",
       "        text-align: right;\n",
       "    }\n",
       "</style>\n",
       "<table border=\"1\" class=\"dataframe\">\n",
       "  <thead>\n",
       "    <tr style=\"text-align: right;\">\n",
       "      <th></th>\n",
       "      <th>tiempo</th>\n",
       "      <th>voltaje</th>\n",
       "    </tr>\n",
       "  </thead>\n",
       "  <tbody>\n",
       "    <tr>\n",
       "      <th>183</th>\n",
       "      <td>380.689655</td>\n",
       "      <td>11.93</td>\n",
       "    </tr>\n",
       "    <tr>\n",
       "      <th>184</th>\n",
       "      <td>382.758621</td>\n",
       "      <td>12.32</td>\n",
       "    </tr>\n",
       "    <tr>\n",
       "      <th>185</th>\n",
       "      <td>384.827586</td>\n",
       "      <td>12.44</td>\n",
       "    </tr>\n",
       "    <tr>\n",
       "      <th>186</th>\n",
       "      <td>386.896552</td>\n",
       "      <td>12.14</td>\n",
       "    </tr>\n",
       "    <tr>\n",
       "      <th>444</th>\n",
       "      <td>920.689655</td>\n",
       "      <td>11.68</td>\n",
       "    </tr>\n",
       "  </tbody>\n",
       "</table>\n",
       "</div>"
      ],
      "text/plain": [
       "         tiempo  voltaje\n",
       "183  380.689655    11.93\n",
       "184  382.758621    12.32\n",
       "185  384.827586    12.44\n",
       "186  386.896552    12.14\n",
       "444  920.689655    11.68"
      ]
     },
     "execution_count": 18,
     "metadata": {},
     "output_type": "execute_result"
    }
   ],
   "source": [
    "df2.head()"
   ]
  },
  {
   "cell_type": "markdown",
   "metadata": {
    "colab_type": "text",
    "id": "iciJIS6vSW_9"
   },
   "source": [
    "### Importo numpy (aunque deberia moverlo al principio)"
   ]
  },
  {
   "cell_type": "code",
   "execution_count": 19,
   "metadata": {
    "colab": {},
    "colab_type": "code",
    "id": "fZevUlrZSW_-"
   },
   "outputs": [],
   "source": [
    "import numpy as np"
   ]
  },
  {
   "cell_type": "markdown",
   "metadata": {
    "colab_type": "text",
    "id": "6H5Xr3fXSXAB"
   },
   "source": [
    "Voy a calcular el diff de los elementos de la columna tiempo.\n",
    "\n",
    "Si tengo un array A = [a0, a1, a2, ...]\n",
    "\n",
    "np.diff(A) es [a1-a0 , a2-a1 , a3-a2, ...]\n",
    "\n",
    "es la resta entre un elemento y su inmediato anterior.\n",
    "\n",
    "*Nota:* diff siempre devuelve un array con un elemento menos que el original."
   ]
  },
  {
   "cell_type": "code",
   "execution_count": 20,
   "metadata": {
    "colab": {},
    "colab_type": "code",
    "id": "L2u2Qa4uSXAB"
   },
   "outputs": [],
   "source": [
    "deltaT = np.diff(df2.tiempo)"
   ]
  },
  {
   "cell_type": "markdown",
   "metadata": {
    "colab_type": "text",
    "id": "teCDNiiwSXAF"
   },
   "source": [
    "Veamos que resulta el diff de tiempo (ya filtrado y guardado en df2)"
   ]
  },
  {
   "cell_type": "code",
   "execution_count": 21,
   "metadata": {
    "colab": {},
    "colab_type": "code",
    "id": "UdBvci_jSXAG",
    "outputId": "a0c28fb3-8f82-4ca4-e233-77fe4a0c4663"
   },
   "outputs": [
    {
     "data": {
      "text/plain": [
       "array([  2.06896552,   2.06896552,   2.06896552, 533.79310345,\n",
       "         2.06896552,   2.06896552,   2.06896552,   2.06896552,\n",
       "         2.06896552, 548.27586207,   2.06896552,   2.06896552,\n",
       "         2.06896552, 562.75862069,   2.06896552,   2.06896552,\n",
       "         2.06896552,   2.06896552,   2.06896552, 558.62068966,\n",
       "         2.06896552,   2.06896552,   2.06896552,   2.06896552,\n",
       "       583.44827586,   2.06896552,   2.06896552,   2.06896552,\n",
       "       606.20689655,   2.06896552,   2.06896552,   2.06896552,\n",
       "       587.5862069 ,   2.06896552,   2.06896552,   2.06896552,\n",
       "         2.06896552, 544.13793103,   2.06896552,   2.06896552,\n",
       "         2.06896552,   2.06896552, 546.20689655,   2.06896552,\n",
       "         2.06896552,   2.06896552, 558.62068966,   2.06896552,\n",
       "         2.06896552, 564.82758621])"
      ]
     },
     "execution_count": 21,
     "metadata": {},
     "output_type": "execute_result"
    }
   ],
   "source": [
    "deltaT[:50]"
   ]
  },
  {
   "cell_type": "markdown",
   "metadata": {
    "colab_type": "text",
    "id": "K2DiIUCCSXAI"
   },
   "source": [
    "Se ve que hay varios que difieren en poco (2.1) y algunos que difieren en mucho (500+).\n",
    "\n",
    "Este salto es el tiempo entre picos"
   ]
  },
  {
   "cell_type": "code",
   "execution_count": 22,
   "metadata": {
    "colab": {},
    "colab_type": "code",
    "id": "lTnPBLfqSXAJ"
   },
   "outputs": [],
   "source": [
    "picos = deltaT[deltaT>100]"
   ]
  },
  {
   "cell_type": "markdown",
   "metadata": {
    "colab_type": "text",
    "id": "PS-5e_xWSXAL"
   },
   "source": [
    "Veamos si hay outliers en los tiempos entre picos"
   ]
  },
  {
   "cell_type": "code",
   "execution_count": 23,
   "metadata": {
    "colab": {},
    "colab_type": "code",
    "id": "cKe7W-QBSXAL",
    "outputId": "8628a748-5926-4aeb-b9a0-5d6fff6472b9"
   },
   "outputs": [
    {
     "data": {
      "text/plain": [
       "<matplotlib.axes._subplots.AxesSubplot at 0x7f2d1a16e1f0>"
      ]
     },
     "execution_count": 23,
     "metadata": {},
     "output_type": "execute_result"
    },
    {
     "data": {
      "image/png": "[encoded data removed]",
      "text/plain": [
       "<Figure size 432x288 with 1 Axes>"
      ]
     },
     "metadata": {
      "needs_background": "light"
     },
     "output_type": "display_data"
    }
   ],
   "source": [
    "sns.boxplot(picos)"
   ]
  },
  {
   "cell_type": "markdown",
   "metadata": {
    "colab_type": "text",
    "id": "puQdOyitSXAO"
   },
   "source": [
    "### Calculemos Latidos por Minuto"
   ]
  },
  {
   "cell_type": "code",
   "execution_count": 24,
   "metadata": {
    "colab": {},
    "colab_type": "code",
    "id": "fZXqHbJhSXAO"
   },
   "outputs": [],
   "source": [
    "lxm = 60000/picos"
   ]
  },
  {
   "cell_type": "code",
   "execution_count": 25,
   "metadata": {
    "colab": {},
    "colab_type": "code",
    "id": "e8LyFKHiSXAR",
    "outputId": "973721c9-b23e-4b36-e639-d07e61cc4d7b"
   },
   "outputs": [
    {
     "data": {
      "text/plain": [
       "array([112.40310078, 109.43396226, 106.61764706, 107.40740741,\n",
       "       102.83687943,  98.97610922, 102.11267606, 110.2661597 ,\n",
       "       109.84848485, 107.40740741, 106.22710623, 103.94265233,\n",
       "        75.91623037,  97.97297297, 103.94265233, 100.69444444,\n",
       "        98.97610922, 102.47349823, 109.02255639, 107.80669145,\n",
       "        96.66666667,  96.02649007, 105.45454545, 104.31654676,\n",
       "       110.6870229 , 109.02255639, 110.6870229 , 113.7254902 ,\n",
       "       113.28125   , 113.7254902 , 118.85245902, 116.46586345,\n",
       "       114.17322835, 115.53784861, 110.6870229 , 103.57142857,\n",
       "       108.61423221, 109.84848485])"
      ]
     },
     "execution_count": 25,
     "metadata": {},
     "output_type": "execute_result"
    }
   ],
   "source": [
    "lxm"
   ]
  },
  {
   "cell_type": "markdown",
   "metadata": {
    "colab_type": "text",
    "id": "uQCwFH1DSXAU"
   },
   "source": [
    "Veamos el histograma"
   ]
  },
  {
   "cell_type": "code",
   "execution_count": 26,
   "metadata": {
    "colab": {},
    "colab_type": "code",
    "id": "Uh4HPXbxSXAU",
    "outputId": "6f40d224-4a05-439b-e502-d6d620478440"
   },
   "outputs": [
    {
     "data": {
      "text/plain": [
       "(array([ 1.,  0.,  0.,  0.,  2.,  4.,  8., 11.,  9.,  3.]),\n",
       " array([ 75.91623037,  80.20985323,  84.5034761 ,  88.79709896,\n",
       "         93.09072183,  97.38434469, 101.67796756, 105.97159042,\n",
       "        110.26521329, 114.55883615, 118.85245902]),\n",
       " <a list of 10 Patch objects>)"
      ]
     },
     "execution_count": 26,
     "metadata": {},
     "output_type": "execute_result"
    },
    {
     "data": {
      "image/png": "[encoded data removed]",
      "text/plain": [
       "<Figure size 432x288 with 1 Axes>"
      ]
     },
     "metadata": {
      "needs_background": "light"
     },
     "output_type": "display_data"
    }
   ],
   "source": [
    "plt.hist(lxm)"
   ]
  },
  {
   "cell_type": "code",
   "execution_count": 27,
   "metadata": {
    "colab": {},
    "colab_type": "code",
    "id": "rtYRRQ5kSXAa",
    "outputId": "ad232470-d801-4674-a126-b365e4ba5a39"
   },
   "outputs": [
    {
     "data": {
      "text/plain": [
       "[<matplotlib.lines.Line2D at 0x7f2d1a0b5250>]"
      ]
     },
     "execution_count": 27,
     "metadata": {},
     "output_type": "execute_result"
    },
    {
     "data": {
      "image/png": "[encoded data removed]",
      "text/plain": [
       "<Figure size 432x288 with 1 Axes>"
      ]
     },
     "metadata": {
      "needs_background": "light"
     },
     "output_type": "display_data"
    }
   ],
   "source": [
    "der = np.diff(mediciones.voltaje)\n",
    "plt.plot(mediciones.tiempo[1:],der)\n",
    "plt.plot(mediciones.tiempo,mediciones.voltaje)\n"
   ]
  },
  {
   "cell_type": "markdown",
   "metadata": {
    "colab_type": "text",
    "id": "Il1YsM-OSXAe"
   },
   "source": [
    "# Moraleja"
   ]
  },
  {
   "cell_type": "markdown",
   "metadata": {
    "colab_type": "text",
    "id": "xdqfSi4ySXAf"
   },
   "source": [
    "* Los outliers no necesariamente son puntos malos\n",
    "* Siempre entender de donde provienen los datos y que representan\n",
    "* Analizar los outliers en contexto\n",
    "* Y a veces hay que transformar los datos para obtener datos utiles (latidos por minuto)"
   ]
  },
  {
   "cell_type": "markdown",
   "metadata": {
    "colab_type": "text",
    "id": "RR-RRT7pSXAf"
   },
   "source": [
    "## Funciones para calcular Z-Score, Z-score modificado y IQR"
   ]
  },
  {
   "cell_type": "markdown",
   "metadata": {
    "colab_type": "text",
    "id": "QFg5TgBeSXAf"
   },
   "source": [
    "Se proponen 3 funciones alternativas al comando "
   ]
  },
  {
   "cell_type": "code",
   "execution_count": 28,
   "metadata": {
    "colab": {},
    "colab_type": "code",
    "id": "XcC0gVbQSXAg"
   },
   "outputs": [],
   "source": [
    "import numpy as np\n",
    "\n",
    "def outliers_z_score(ys):\n",
    "    threshold = 3\n",
    "\n",
    "    mean_y = np.mean(ys)\n",
    "    stdev_y = np.std(ys)\n",
    "    z_scores = [(y - mean_y) / stdev_y for y in ys]\n",
    "    return np.where(np.abs(z_scores) > threshold)"
   ]
  },
  {
   "cell_type": "code",
   "execution_count": 29,
   "metadata": {
    "colab": {},
    "colab_type": "code",
    "id": "vYMBaxb6SXAk"
   },
   "outputs": [],
   "source": [
    "import numpy as np\n",
    "\n",
    "def outliers_modified_z_score(ys):\n",
    "    threshold = 3.5\n",
    "\n",
    "    median_y = np.median(ys)\n",
    "    median_absolute_deviation_y = np.median([np.abs(y - median_y) for y in ys])\n",
    "    modified_z_scores = [0.6745 * (y - median_y) / median_absolute_deviation_y\n",
    "                         for y in ys]\n",
    "    return np.where(np.abs(modified_z_scores) > threshold)\n",
    "#A further benefit of the modified Z-score method is that it uses the median and MAD rather \n",
    "#than the mean and standard deviation. The median and MAD are robust measures of central tendency and dispersion, \n",
    "#resp"
   ]
  },
  {
   "cell_type": "code",
   "execution_count": 30,
   "metadata": {
    "colab": {},
    "colab_type": "code",
    "id": "jpVwKcpHSXAn"
   },
   "outputs": [],
   "source": [
    "import numpy as np\n",
    "\n",
    "def outliers_iqr(ys):\n",
    "    quartile_1, quartile_3 = np.percentile(ys, [25, 75])\n",
    "    iqr = quartile_3 - quartile_1\n",
    "    lower_bound = quartile_1 - (iqr * 1.5)\n",
    "    upper_bound = quartile_3 + (iqr * 1.5)\n",
    "    return np.where((ys > upper_bound) | (ys < lower_bound))"
   ]
  },
  {
   "cell_type": "markdown",
   "metadata": {
    "colab_type": "text",
    "id": "FYChYL6oSXAp"
   },
   "source": [
    "**Resumen**\n",
    "\n",
    "Diriamos que datos sucios, malos cálculos, son Outliers y se deberían remover pero al mismo tiempo puede ser que los queramos corregir también, porque inciden en las estimaciones de parámetros.\n",
    "\n",
    "A través de este ejercicio vimos cómo en la fase de análisis de los datos podemos encontrarnos con datos inusuales (outliers). Aprendimos técnicas de detección y eliminación de outliers. Queda en discusión la pregunta sobre si es el camino correcto efectuar una eliminación de estos casos. Para responderla se dejan propuestas lecturas:\n",
    "\n",
    "http://www.renc.es/imagenes/auxiliar/files/NUTR.%20COMUN.%20SUPL.%201-2015_Tratamiento%20atipicos.pdf\n",
    "\n",
    "https://www.researchgate.net/post/When_is_it_justifiable_to_exclude_outlier_data_points_from_statistical_analyses\n",
    "\n",
    "https://www.researchgate.net/post/Which_is_the_best_method_for_removing_outliers_in_a_data_set\n",
    "\n",
    "https://www.theanalysisfactor.com/outliers-to-drop-or-not-to-drop/"
   ]
  },
  {
   "cell_type": "code",
   "execution_count": null,
   "metadata": {
    "colab": {},
    "colab_type": "code",
    "id": "BAO-oOyWSXAp"
   },
   "outputs": [],
   "source": []
  }
 ],
 "metadata": {
  "colab": {
   "name": "Clase_extra_outliers.ipynb",
   "provenance": []
  },
  "kernelspec": {
   "display_name": "Python 3",
   "language": "python",
   "name": "python3"
  },
  "language_info": {
   "codemirror_mode": {
    "name": "ipython",
    "version": 3
   },
   "file_extension": ".py",
   "mimetype": "text/x-python",
   "name": "python",
   "nbconvert_exporter": "python",
   "pygments_lexer": "ipython3",
   "version": "3.8.2"
  }
 },
 "nbformat": 4,
 "nbformat_minor": 4
}
