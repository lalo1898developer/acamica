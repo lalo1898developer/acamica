{
 "cells": [
  {
   "cell_type": "markdown",
   "metadata": {},
   "source": [
    "# Ingeniería de features de las propiedades en venta.\n",
    "La idea de este notebook es que comencemos a pensar como procesar los features del Dataset de Properatti que utilizaron para la primer entrega. La ingenieria de features lleva mucho tiempo y trabajo. En esta actividad les presentamos algunas buenas prácticas y les sugerimos algunas ideas, pero queda mucho por hacer! Les invitamos a seguir procesándolo en sus casas :)"
   ]
  },
  {
   "cell_type": "code",
   "execution_count": null,
   "metadata": {},
   "outputs": [],
   "source": [
    "import numpy as np\n",
    "import pandas as pd\n",
    "import matplotlib.pyplot as plt\n",
    "import seaborn as sns"
   ]
  },
  {
   "cell_type": "code",
   "execution_count": null,
   "metadata": {},
   "outputs": [],
   "source": [
    "properati = pd.read_csv('datos_properati.csv', delimiter=',', parse_dates = ['created_on'])"
   ]
  },
  {
   "cell_type": "code",
   "execution_count": null,
   "metadata": {},
   "outputs": [],
   "source": [
    "properati.dtypes"
   ]
  },
  {
   "cell_type": "markdown",
   "metadata": {},
   "source": [
    "## 1- Amigarse con el Dataset\n",
    "\n",
    "**a)** Indica a qué grupo pertenece las variables de cada columna del Dataset, siendo los grupos:\n",
    "\n",
    "- Numéricas. \n",
    "- Categóricas Nominales.\n",
    "- Categóricas Ordinales.\n",
    "- Fechas - Hora - Ubicacion.\n",
    "\n",
    "Por ejemplo, la columna \"lat\" tiene variables del tipo \" Fechas - Hora - Ubicacion\"\n"
   ]
  },
  {
   "cell_type": "code",
   "execution_count": null,
   "metadata": {},
   "outputs": [],
   "source": [
    "#for col in properati.columns:\n",
    "#    print(col)\n",
    "    \n",
    "for indice, elemento in enumerate(properati.columns):\n",
    "    print(indice, elemento)"
   ]
  },
  {
   "cell_type": "code",
   "execution_count": null,
   "metadata": {},
   "outputs": [],
   "source": [
    "tipo_variable = [None]*len(properati.columns)\n",
    "tipo_variable[5] = 'Fechas - Hora - Ubicacion'\n",
    "\n",
    "for orden,col in enumerate(properati.columns):\n",
    "    print('{} - En la columna \"{}\" tenemos variables de tipo \"{}\" \\n'.format(orden,col,tipo_variable[orden]))"
   ]
  },
  {
   "cell_type": "markdown",
   "metadata": {},
   "source": [
    "**b-** Indica qué columnas tienen NaNs. En caso de tenerlos, cuántos"
   ]
  },
  {
   "cell_type": "code",
   "execution_count": null,
   "metadata": {},
   "outputs": [],
   "source": [
    "# Respuesta\n",
    "def draw_missing_data_table(df):\n",
    "    total = df.isnull().sum().sort_values(ascending=False)\n",
    "    percent = (df.isnull().sum()/df.isnull().count()).sort_values(ascending=False)\n",
    "    missing_data = pd.concat([total, percent], axis=1, keys=['Total', 'Percent'])\n",
    "    return missing_data\n",
    "\n",
    "properati.info()\n",
    "draw_missing_data_table(properati)"
   ]
  },
  {
   "cell_type": "markdown",
   "metadata": {},
   "source": [
    "## 2- Manejo de NaNs.\n",
    "Muchas veces no queremos eliminar las instancias que posean NaNs en algun atributo / feature. \n",
    "\n",
    "\n",
    "**a)** Les proponemos utilizar el imputer de Scikit-learn para reemplazar los valores faltantes con algún indicador estadústico. Por ejemplo, en la columna \"price_usd_per_m2\" podemos reemplazar los valores faltantes por la mediana (les parece correcta esta elección?)."
   ]
  },
  {
   "cell_type": "code",
   "execution_count": null,
   "metadata": {},
   "outputs": [],
   "source": [
    "from sklearn.preprocessing import Imputer\n",
    "#from sklearn.impute import SimpleImputer\n",
    "#imp = SimpleImputer(missing_values='NaN', strategy='median', axis=0)\n",
    "imp = Imputer(missing_values='NaN', strategy='median', axis=0)\n",
    "## Completar con la instruccion fit_transform. Utilizar como argumento properati[['price_aprox_usd']]\n",
    "properati_price_imp  = imp.fit_transform(properati[['price_aprox_usd']])"
   ]
  },
  {
   "cell_type": "code",
   "execution_count": null,
   "metadata": {},
   "outputs": [],
   "source": [
    "#print(imp.statistics_)\n",
    "#draw_missing_data_table(properati)"
   ]
  },
  {
   "cell_type": "markdown",
   "metadata": {},
   "source": [
    "**b)** Chequear cuántas columnas tiene la variable \"properati_price_imp\". Tiene algún NaN?"
   ]
  },
  {
   "cell_type": "code",
   "execution_count": null,
   "metadata": {},
   "outputs": [],
   "source": [
    "### Respuesta\n"
   ]
  },
  {
   "cell_type": "markdown",
   "metadata": {},
   "source": [
    "**c)** Reemplazar los valores de la columna \"properati['price_aprox_usd']\"  por los valores de la variable \"properati_price_imp\"."
   ]
  },
  {
   "cell_type": "code",
   "execution_count": null,
   "metadata": {},
   "outputs": [],
   "source": [
    "### Respuesta"
   ]
  },
  {
   "cell_type": "markdown",
   "metadata": {},
   "source": [
    "**d)** Responder:\n",
    "    - Cuáles son ahora las instancias con valores faltantes?\n",
    "    - Se modificó la mediana de la columna 'price_aprox_usd'? Por qué?\n",
    "    - Proponer (y NO efectuar) una estrategia para procesar otra columna con valores faltantes."
   ]
  },
  {
   "cell_type": "markdown",
   "metadata": {},
   "source": [
    "**e)** Eliminar el resto de las features que tienen valores faltantes. "
   ]
  },
  {
   "cell_type": "markdown",
   "metadata": {},
   "source": [
    "## 3- Extrayendo información útil\n",
    "\n",
    "Los algoritmos de aprendizaje automático que utilizaremos reconocerán patrones en los atributos (o combinaciones de ellos) que les introduzcamos. Entonces, la calidad de funcionamiento del algoritmo esta íntimamente relacionada al preprocesamiento de estos atributos. \n",
    "\n",
    "\n",
    "En este caso, las variables del grupo \"Fechas - Hora - Ubicacion\" pocas veces nos dan la información que queremos y muchas veces hay que reescribirlas. Les proponemos crear **nuevas features** de las cuales sea mas fácil extraer informacion. \n",
    "\n",
    "\n",
    "**a)** Les proponemos crear 3 features nuevas, una con el año en que fue publicada cada casa, otra con el mes, y otra con el día. Tomamos como materia prima la información de la columna 'created_on'.\n",
    "\n",
    "Les mostramos un ejemplo creando la columna \"anio\", y les proponemos que hagan \"mes\" y \"dias\" por su cuenta."
   ]
  },
  {
   "cell_type": "code",
   "execution_count": null,
   "metadata": {},
   "outputs": [],
   "source": [
    "properati['anio'] = pd.DataFrame((properati['created_on'].map(lambda x: x.year)))\n"
   ]
  },
  {
   "cell_type": "markdown",
   "metadata": {},
   "source": [
    "### 4- Manipulación de variables categóricas nominales (o dummies).\n",
    "Usando LabelEncoder de Scikit-learn podemos transformar nuestras variables categóricas en numéricas sin pasar por variables dummies. Luego, vamos a utilizar OneHotEncoder para transformar las categorías numéricas en categorías binarias.\n",
    "\n",
    "\n",
    "Nos centraremos en la columna 'property_type'."
   ]
  },
  {
   "cell_type": "code",
   "execution_count": null,
   "metadata": {},
   "outputs": [],
   "source": [
    "from sklearn.preprocessing import LabelEncoder\n",
    "from sklearn.preprocessing import OneHotEncoder\n",
    "\n",
    " \n",
    "(properati['property_type']).head()"
   ]
  },
  {
   "cell_type": "code",
   "execution_count": null,
   "metadata": {},
   "outputs": [],
   "source": [
    "# Llamamos al algoritmo\n",
    "le_prop_type = LabelEncoder()\n",
    "# Lo fiteamos con las categorias que tenemos en nuestro dataset.\n",
    "le_prop_type.fit(properati['property_type'])"
   ]
  },
  {
   "cell_type": "code",
   "execution_count": null,
   "metadata": {},
   "outputs": [],
   "source": [
    "# Estas son las categorias que eligio el algoritmo. Les asignara un numero a cada categoria, \n",
    "# yendo de izquierda a derecha [recordemos que python cuenta desde 0]\n",
    "le_prop_type.classes_"
   ]
  },
  {
   "cell_type": "code",
   "execution_count": null,
   "metadata": {},
   "outputs": [],
   "source": [
    "#Transformamos la categoria \"property_type\" en numeros.\n",
    "cat_prop_type = le_prop_type.transform(properati['property_type'])"
   ]
  },
  {
   "cell_type": "code",
   "execution_count": null,
   "metadata": {},
   "outputs": [],
   "source": [
    "#Les proponemos formas de visualizar que hizo sckit-learn\n",
    "#print(cat_prop_type)\n",
    "#plt.plot(cat_prop_type,'o')"
   ]
  },
  {
   "cell_type": "code",
   "execution_count": null,
   "metadata": {},
   "outputs": [],
   "source": [
    "# Actualizamos el viejo dataset\n",
    "#properati['property_type'] = cat_prop_type"
   ]
  },
  {
   "cell_type": "markdown",
   "metadata": {},
   "source": [
    "Ahora vamos a transformar las categorías numéricas que acabamos de definir, en binarias. De lo contrario, el algoritmo de ML que vayamos a usar las interpretaria como variables categoricas ordinales [y no lo son!]."
   ]
  },
  {
   "cell_type": "code",
   "execution_count": null,
   "metadata": {},
   "outputs": [],
   "source": [
    "onehot_encoder = OneHotEncoder(sparse = False)\n",
    "# No olvidemos que hay que cambiarle las dimensiones al set de etrenamiento del OneHotEncoder!\n",
    "cat_prop_type_rs = cat_prop_type.reshape(-1,1)\n",
    "print(cat_prop_type_rs)"
   ]
  },
  {
   "cell_type": "code",
   "execution_count": null,
   "metadata": {},
   "outputs": [],
   "source": [
    "#Como estamos cancheres, realizamos directamente el fit y transform juntos!\n",
    "cat_prop_type_encoded = onehot_encoder.fit_transform(cat_prop_type_rs)\n",
    "print(cat_prop_type_encoded)"
   ]
  },
  {
   "cell_type": "markdown",
   "metadata": {},
   "source": [
    "**a)** RESPONDER:\n",
    "\n",
    "    - Por qué la variable 'cat_prop_type_encoded' tiene esa forma? Qué significa cada cosa?\n",
    "    - Podriamos haber usado el OneHotEncoder sin utilizar primero el LabelEncoder?"
   ]
  },
  {
   "cell_type": "code",
   "execution_count": null,
   "metadata": {},
   "outputs": [],
   "source": [
    "print(cat_prop_type_encoded)"
   ]
  },
  {
   "cell_type": "markdown",
   "metadata": {},
   "source": [
    "**b)** Scikit-learn tiene una excelente documentación. Te proponemos que lo chequees por vos misme. Te proponemos que explores https://scikit-learn.org/stable/modules/generated/sklearn.preprocessing.OneHotEncoder.html. Qué funciones tiene? Qué te parece que hace la función *inverse_transform*?"
   ]
  }
 ],
 "metadata": {
  "kernelspec": {
   "display_name": "Python 3",
   "language": "python",
   "name": "python3"
  },
  "language_info": {
   "codemirror_mode": {
    "name": "ipython",
    "version": 3
   },
   "file_extension": ".py",
   "mimetype": "text/x-python",
   "name": "python",
   "nbconvert_exporter": "python",
   "pygments_lexer": "ipython3",
   "version": "3.7.9"
  }
 },
 "nbformat": 4,
 "nbformat_minor": 4
}
