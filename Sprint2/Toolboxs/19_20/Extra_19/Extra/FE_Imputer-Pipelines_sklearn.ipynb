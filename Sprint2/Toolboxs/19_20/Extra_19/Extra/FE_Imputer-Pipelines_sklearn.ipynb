{
 "cells": [
  {
   "cell_type": "markdown",
   "metadata": {
    "colab": {},
    "colab_type": "code",
    "id": "nlSv2pSTAU1p"
   },
   "source": [
    "## SIMPLE IMPUTER"
   ]
  },
  {
   "cell_type": "code",
   "execution_count": 1,
   "metadata": {},
   "outputs": [],
   "source": [
    "# Load libraries\n",
    "import numpy as np\n",
    "from sklearn.impute import SimpleImputer"
   ]
  },
  {
   "cell_type": "code",
   "execution_count": 2,
   "metadata": {
    "colab": {},
    "colab_type": "code",
    "id": "dRtjCO25AU1u"
   },
   "outputs": [],
   "source": [
    "# Create feature matrix with categorical feature\n",
    "X = np.array([[0, 2.10, 1.45], \n",
    "              [1, 1.18, 1.33], \n",
    "              [0, 1.22, 1.27],\n",
    "              [0, -0.21, -1.19],\n",
    "              [np.nan, 0.87, 1.31],\n",
    "              [np.nan, -0.67, -0.22]])"
   ]
  },
  {
   "cell_type": "code",
   "execution_count": 3,
   "metadata": {},
   "outputs": [
    {
     "name": "stdout",
     "output_type": "stream",
     "text": [
      "[[ 0.    2.1   1.45]\n",
      " [ 1.    1.18  1.33]\n",
      " [ 0.    1.22  1.27]\n",
      " [ 0.   -0.21 -1.19]\n",
      " [  nan  0.87  1.31]\n",
      " [  nan -0.67 -0.22]]\n"
     ]
    }
   ],
   "source": [
    "print(X)"
   ]
  },
  {
   "cell_type": "code",
   "execution_count": 4,
   "metadata": {
    "colab": {},
    "colab_type": "code",
    "id": "lpvPQZNKAU1x"
   },
   "outputs": [],
   "source": [
    "# Create Imputer object\n",
    "imputer = SimpleImputer(strategy='most_frequent')"
   ]
  },
  {
   "cell_type": "code",
   "execution_count": 5,
   "metadata": {
    "colab": {},
    "colab_type": "code",
    "id": "uDVFBItYAU14",
    "outputId": "c76a6c6b-6469-417d-80fc-6911eff309be"
   },
   "outputs": [
    {
     "data": {
      "text/plain": [
       "array([[ 0.  ,  1.  ,  0.  ,  0.  ,  0.87, -0.67],\n",
       "       [ 2.1 ,  1.18,  1.22, -0.21,  0.87, -0.67],\n",
       "       [ 1.45,  1.33,  1.27, -1.19,  1.31, -0.22]])"
      ]
     },
     "execution_count": 5,
     "metadata": {},
     "output_type": "execute_result"
    }
   ],
   "source": [
    "imputer.fit_transform(X.T)"
   ]
  },
  {
   "cell_type": "code",
   "execution_count": 6,
   "metadata": {
    "colab": {},
    "colab_type": "code",
    "id": "xw7e5eRUAU19",
    "outputId": "aaafbfa2-2712-4978-f4a8-d9192af8ee8d"
   },
   "outputs": [
    {
     "data": {
      "text/plain": [
       "array([[ 0.  ,  2.1 ,  1.45],\n",
       "       [ 1.  ,  1.18,  1.33],\n",
       "       [ 0.  ,  1.22,  1.27],\n",
       "       [ 0.  , -0.21, -1.19],\n",
       "       [ 0.  ,  0.87,  1.31],\n",
       "       [ 0.  , -0.67, -0.22]])"
      ]
     },
     "execution_count": 6,
     "metadata": {},
     "output_type": "execute_result"
    }
   ],
   "source": [
    "imputer.fit_transform(X)"
   ]
  },
  {
   "cell_type": "markdown",
   "metadata": {
    "colab_type": "text",
    "id": "Jm8w__5rAU2B"
   },
   "source": [
    " ## PIPELINE"
   ]
  },
  {
   "cell_type": "code",
   "execution_count": 7,
   "metadata": {
    "colab": {},
    "colab_type": "code",
    "executionInfo": {
     "elapsed": 750,
     "status": "ok",
     "timestamp": 1597359282839,
     "user": {
      "displayName": "Estefania Piegari",
      "photoUrl": "https://lh3.googleusercontent.com/a-/AOh14GieDRN1TK7lhqmSWm-u4LVx4fCPYawr79JZGgI4ow=s64",
      "userId": "09644009300700559972"
     },
     "user_tz": 180
    },
    "id": "wT6bZOleAU2B"
   },
   "outputs": [],
   "source": [
    "import pandas as pd\n",
    "import numpy as np\n",
    "\n",
    "from sklearn.compose import ColumnTransformer\n",
    "from sklearn.pipeline import Pipeline\n",
    "from sklearn.impute import SimpleImputer\n",
    "from sklearn.preprocessing import StandardScaler, OneHotEncoder"
   ]
  },
  {
   "cell_type": "code",
   "execution_count": 8,
   "metadata": {
    "colab": {
     "base_uri": "https://localhost:8080/",
     "height": 225
    },
    "colab_type": "code",
    "executionInfo": {
     "elapsed": 981,
     "status": "ok",
     "timestamp": 1597359285580,
     "user": {
      "displayName": "Estefania Piegari",
      "photoUrl": "https://lh3.googleusercontent.com/a-/AOh14GieDRN1TK7lhqmSWm-u4LVx4fCPYawr79JZGgI4ow=s64",
      "userId": "09644009300700559972"
     },
     "user_tz": 180
    },
    "id": "b9_MJMihAU2G",
    "outputId": "bbad7ba2-5f69-4f37-878a-cbc71953d084"
   },
   "outputs": [
    {
     "name": "stdout",
     "output_type": "stream",
     "text": [
      "<class 'pandas.core.frame.DataFrame'>\n",
      "RangeIndex: 5 entries, 0 to 4\n",
      "Data columns (total 5 columns):\n",
      " #   Column     Non-Null Count  Dtype  \n",
      "---  ------     --------------  -----  \n",
      " 0   patient    5 non-null      int64  \n",
      " 1   obs        4 non-null      float64\n",
      " 2   treatment  4 non-null      float64\n",
      " 3   sex        5 non-null      object \n",
      " 4   score      5 non-null      object \n",
      "dtypes: float64(2), int64(1), object(2)\n",
      "memory usage: 328.0+ bytes\n"
     ]
    }
   ],
   "source": [
    "#Create DataFrame\n",
    "raw_data = {'patient': [1, 1, 1, 2, 2],\n",
    "        'obs': [1, np.nan, 3, 1, 2],\n",
    "        'treatment': [0, 1, 0, 1, np.nan],\n",
    "            'sex':['F', 'M', 'F', 'F', 'M'],\n",
    "        'score': ['strong', 'weak', 'normal', 'weak', 'strong']}\n",
    "df = pd.DataFrame(raw_data, columns = ['patient', 'obs', 'treatment', 'sex','score'])\n",
    "df.info()"
   ]
  },
  {
   "cell_type": "code",
   "execution_count": 9,
   "metadata": {
    "colab": {},
    "colab_type": "code",
    "executionInfo": {
     "elapsed": 484,
     "status": "ok",
     "timestamp": 1597359286004,
     "user": {
      "displayName": "Estefania Piegari",
      "photoUrl": "https://lh3.googleusercontent.com/a-/AOh14GieDRN1TK7lhqmSWm-u4LVx4fCPYawr79JZGgI4ow=s64",
      "userId": "09644009300700559972"
     },
     "user_tz": 180
    },
    "id": "brpyj8kBAU2K"
   },
   "outputs": [],
   "source": [
    "# We create the preprocessing pipelines for both numeric and categorical data.\n",
    "numeric_features = ['obs','treatment']\n",
    "numeric_transformer = Pipeline(steps=[\n",
    "    ('imputer', SimpleImputer(strategy='most_frequent'))])\n",
    "\n",
    "categorical_features = ['score','sex']\n",
    "categorical_transformer = Pipeline(steps=[\n",
    "    ('imputer', SimpleImputer(strategy='constant', fill_value='missing')),\n",
    "    ('onehot', OneHotEncoder(handle_unknown='ignore'))])\n"
   ]
  },
  {
   "cell_type": "code",
   "execution_count": 10,
   "metadata": {
    "colab": {},
    "colab_type": "code",
    "executionInfo": {
     "elapsed": 498,
     "status": "ok",
     "timestamp": 1597359287084,
     "user": {
      "displayName": "Estefania Piegari",
      "photoUrl": "https://lh3.googleusercontent.com/a-/AOh14GieDRN1TK7lhqmSWm-u4LVx4fCPYawr79JZGgI4ow=s64",
      "userId": "09644009300700559972"
     },
     "user_tz": 180
    },
    "id": "HUnH7q7YAU2P"
   },
   "outputs": [],
   "source": [
    "preprocessor = ColumnTransformer(\n",
    "    transformers=[\n",
    "        ('num', numeric_transformer, numeric_features),\n",
    "        ('cat', categorical_transformer, categorical_features)])"
   ]
  },
  {
   "cell_type": "code",
   "execution_count": 11,
   "metadata": {
    "colab": {
     "base_uri": "https://localhost:8080/",
     "height": 104
    },
    "colab_type": "code",
    "executionInfo": {
     "elapsed": 622,
     "status": "ok",
     "timestamp": 1597359288289,
     "user": {
      "displayName": "Estefania Piegari",
      "photoUrl": "https://lh3.googleusercontent.com/a-/AOh14GieDRN1TK7lhqmSWm-u4LVx4fCPYawr79JZGgI4ow=s64",
      "userId": "09644009300700559972"
     },
     "user_tz": 180
    },
    "id": "oATxfe_QAU2T",
    "outputId": "0f02b0f7-f9da-4b1b-984f-dcaac12cc586"
   },
   "outputs": [
    {
     "data": {
      "text/plain": [
       "array([[1., 0., 0., 1., 0., 1., 0.],\n",
       "       [1., 1., 0., 0., 1., 0., 1.],\n",
       "       [3., 0., 1., 0., 0., 1., 0.],\n",
       "       [1., 1., 0., 0., 1., 1., 0.],\n",
       "       [2., 0., 0., 1., 0., 0., 1.]])"
      ]
     },
     "execution_count": 11,
     "metadata": {},
     "output_type": "execute_result"
    }
   ],
   "source": [
    "# Append classifier to preprocessing pipeline.\n",
    "# Now we have a full prediction pipeline.\n",
    "clf = Pipeline(steps=[('preprocessor', preprocessor)])\n",
    "\n",
    "DATA_PIPELINE=clf.fit_transform(df)\n",
    "DATA_PIPELINE"
   ]
  },
  {
   "cell_type": "code",
   "execution_count": null,
   "metadata": {},
   "outputs": [],
   "source": []
  },
  {
   "cell_type": "code",
   "execution_count": null,
   "metadata": {},
   "outputs": [],
   "source": []
  }
 ],
 "metadata": {
  "colab": {
   "name": "claseFE_clase.ipynb",
   "provenance": []
  },
  "kernelspec": {
   "display_name": "Python 3",
   "language": "python",
   "name": "python3"
  },
  "language_info": {
   "codemirror_mode": {
    "name": "ipython",
    "version": 3
   },
   "file_extension": ".py",
   "mimetype": "text/x-python",
   "name": "python",
   "nbconvert_exporter": "python",
   "pygments_lexer": "ipython3",
   "version": "3.7.9"
  }
 },
 "nbformat": 4,
 "nbformat_minor": 4
}
