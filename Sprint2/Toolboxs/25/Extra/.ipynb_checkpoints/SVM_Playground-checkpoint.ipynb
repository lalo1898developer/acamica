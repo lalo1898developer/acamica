{
  "nbformat": 4,
  "nbformat_minor": 0,
  "metadata": {
    "colab": {
      "name": "SVM_Playground.ipynb",
      "provenance": [],
      "collapsed_sections": []
    },
    "hide_input": false,
    "kernelspec": {
      "display_name": "Python 3",
      "language": "python",
      "name": "python3"
    },
    "language_info": {
      "codemirror_mode": {
        "name": "ipython",
        "version": 3
      },
      "file_extension": ".py",
      "mimetype": "text/x-python",
      "name": "python",
      "nbconvert_exporter": "python",
      "pygments_lexer": "ipython3",
      "version": "3.8.2"
    },
    "widgets": {
      "application/vnd.jupyter.widget-state+json": {
        "3fa10d9cd79d48fcaecc5a8bb393ceb8": {
          "model_module": "@jupyter-widgets/controls",
          "model_name": "VBoxModel",
          "state": {
            "_view_name": "VBoxView",
            "_dom_classes": [
              "widget-interact"
            ],
            "_model_name": "VBoxModel",
            "_view_module": "@jupyter-widgets/controls",
            "_model_module_version": "1.5.0",
            "_view_count": null,
            "_view_module_version": "1.5.0",
            "box_style": "",
            "layout": "IPY_MODEL_121c6d9f05734e12a42137196637e23a",
            "_model_module": "@jupyter-widgets/controls",
            "children": [
              "IPY_MODEL_259b5bd313e34df98cc3fa4d189bed0f",
              "IPY_MODEL_a527d41fd4d1468d9ed872a41a646042",
              "IPY_MODEL_a227d67a603b41e89fec9e276d8d2374",
              "IPY_MODEL_44a14ef9c509435fa64abb0eb60c51b7"
            ]
          }
        },
        "121c6d9f05734e12a42137196637e23a": {
          "model_module": "@jupyter-widgets/base",
          "model_name": "LayoutModel",
          "state": {
            "_view_name": "LayoutView",
            "grid_template_rows": null,
            "right": null,
            "justify_content": null,
            "_view_module": "@jupyter-widgets/base",
            "overflow": null,
            "_model_module_version": "1.2.0",
            "_view_count": null,
            "flex_flow": null,
            "width": null,
            "min_width": null,
            "border": null,
            "align_items": null,
            "bottom": null,
            "_model_module": "@jupyter-widgets/base",
            "top": null,
            "grid_column": null,
            "overflow_y": null,
            "overflow_x": null,
            "grid_auto_flow": null,
            "grid_area": null,
            "grid_template_columns": null,
            "flex": null,
            "_model_name": "LayoutModel",
            "justify_items": null,
            "grid_row": null,
            "max_height": null,
            "align_content": null,
            "visibility": null,
            "align_self": null,
            "height": null,
            "min_height": null,
            "padding": null,
            "grid_auto_rows": null,
            "grid_gap": null,
            "max_width": null,
            "order": null,
            "_view_module_version": "1.2.0",
            "grid_template_areas": null,
            "object_position": null,
            "object_fit": null,
            "grid_auto_columns": null,
            "margin": null,
            "display": null,
            "left": null
          }
        },
        "259b5bd313e34df98cc3fa4d189bed0f": {
          "model_module": "@jupyter-widgets/controls",
          "model_name": "DropdownModel",
          "state": {
            "_options_labels": [
              "0.01",
              "0.1",
              "1",
              "10",
              "100",
              "1000"
            ],
            "_view_name": "DropdownView",
            "style": "IPY_MODEL_f51d36c0858f443b878b9e937c9f525c",
            "_dom_classes": [],
            "description": "C",
            "_model_name": "DropdownModel",
            "index": 2,
            "_view_module": "@jupyter-widgets/controls",
            "_model_module_version": "1.5.0",
            "_view_count": null,
            "disabled": false,
            "_view_module_version": "1.5.0",
            "description_tooltip": null,
            "_model_module": "@jupyter-widgets/controls",
            "layout": "IPY_MODEL_fca5c11624964eb6b9f57f2a64db2ec1"
          }
        },
        "a527d41fd4d1468d9ed872a41a646042": {
          "model_module": "@jupyter-widgets/controls",
          "model_name": "DropdownModel",
          "state": {
            "_options_labels": [
              "1e-05",
              "0.0001",
              "0.001",
              "0.01",
              "0.1",
              "0.2",
              "0.5",
              "0.99"
            ],
            "_view_name": "DropdownView",
            "style": "IPY_MODEL_b907e15cea6e442e8721f74961176905",
            "_dom_classes": [],
            "description": "gamma",
            "_model_name": "DropdownModel",
            "index": 3,
            "_view_module": "@jupyter-widgets/controls",
            "_model_module_version": "1.5.0",
            "_view_count": null,
            "disabled": false,
            "_view_module_version": "1.5.0",
            "description_tooltip": null,
            "_model_module": "@jupyter-widgets/controls",
            "layout": "IPY_MODEL_1beb018f4a3743c2b84856f3282b84ee"
          }
        },
        "a227d67a603b41e89fec9e276d8d2374": {
          "model_module": "@jupyter-widgets/controls",
          "model_name": "DropdownModel",
          "state": {
            "_options_labels": [
              "linear",
              "rbf",
              "sigmoid",
              "poly"
            ],
            "_view_name": "DropdownView",
            "style": "IPY_MODEL_04c7f50bce3447dda54155dd92299953",
            "_dom_classes": [],
            "description": "kernel",
            "_model_name": "DropdownModel",
            "index": 1,
            "_view_module": "@jupyter-widgets/controls",
            "_model_module_version": "1.5.0",
            "_view_count": null,
            "disabled": false,
            "_view_module_version": "1.5.0",
            "description_tooltip": null,
            "_model_module": "@jupyter-widgets/controls",
            "layout": "IPY_MODEL_aff29b8aec6a452b83f3e76cb8d14899"
          }
        },
        "44a14ef9c509435fa64abb0eb60c51b7": {
          "model_module": "@jupyter-widgets/output",
          "model_name": "OutputModel",
          "state": {
            "_view_name": "OutputView",
            "msg_id": "",
            "_dom_classes": [],
            "_model_name": "OutputModel",
            "outputs": [
              {
                "output_type": "display_data",
                "metadata": {
                  "tags": [],
                  "needs_background": "light"
                },
                "image/png": "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\n",
                "text/plain": "<Figure size 720x504 with 1 Axes>"
              }
            ],
            "_view_module": "@jupyter-widgets/output",
            "_model_module_version": "1.0.0",
            "_view_count": null,
            "_view_module_version": "1.0.0",
            "layout": "IPY_MODEL_1973129acc7544e6a13d3d4f2d34a359",
            "_model_module": "@jupyter-widgets/output"
          }
        },
        "f51d36c0858f443b878b9e937c9f525c": {
          "model_module": "@jupyter-widgets/controls",
          "model_name": "DescriptionStyleModel",
          "state": {
            "_view_name": "StyleView",
            "_model_name": "DescriptionStyleModel",
            "description_width": "",
            "_view_module": "@jupyter-widgets/base",
            "_model_module_version": "1.5.0",
            "_view_count": null,
            "_view_module_version": "1.2.0",
            "_model_module": "@jupyter-widgets/controls"
          }
        },
        "fca5c11624964eb6b9f57f2a64db2ec1": {
          "model_module": "@jupyter-widgets/base",
          "model_name": "LayoutModel",
          "state": {
            "_view_name": "LayoutView",
            "grid_template_rows": null,
            "right": null,
            "justify_content": null,
            "_view_module": "@jupyter-widgets/base",
            "overflow": null,
            "_model_module_version": "1.2.0",
            "_view_count": null,
            "flex_flow": null,
            "width": null,
            "min_width": null,
            "border": null,
            "align_items": null,
            "bottom": null,
            "_model_module": "@jupyter-widgets/base",
            "top": null,
            "grid_column": null,
            "overflow_y": null,
            "overflow_x": null,
            "grid_auto_flow": null,
            "grid_area": null,
            "grid_template_columns": null,
            "flex": null,
            "_model_name": "LayoutModel",
            "justify_items": null,
            "grid_row": null,
            "max_height": null,
            "align_content": null,
            "visibility": null,
            "align_self": null,
            "height": null,
            "min_height": null,
            "padding": null,
            "grid_auto_rows": null,
            "grid_gap": null,
            "max_width": null,
            "order": null,
            "_view_module_version": "1.2.0",
            "grid_template_areas": null,
            "object_position": null,
            "object_fit": null,
            "grid_auto_columns": null,
            "margin": null,
            "display": null,
            "left": null
          }
        },
        "b907e15cea6e442e8721f74961176905": {
          "model_module": "@jupyter-widgets/controls",
          "model_name": "DescriptionStyleModel",
          "state": {
            "_view_name": "StyleView",
            "_model_name": "DescriptionStyleModel",
            "description_width": "",
            "_view_module": "@jupyter-widgets/base",
            "_model_module_version": "1.5.0",
            "_view_count": null,
            "_view_module_version": "1.2.0",
            "_model_module": "@jupyter-widgets/controls"
          }
        },
        "1beb018f4a3743c2b84856f3282b84ee": {
          "model_module": "@jupyter-widgets/base",
          "model_name": "LayoutModel",
          "state": {
            "_view_name": "LayoutView",
            "grid_template_rows": null,
            "right": null,
            "justify_content": null,
            "_view_module": "@jupyter-widgets/base",
            "overflow": null,
            "_model_module_version": "1.2.0",
            "_view_count": null,
            "flex_flow": null,
            "width": null,
            "min_width": null,
            "border": null,
            "align_items": null,
            "bottom": null,
            "_model_module": "@jupyter-widgets/base",
            "top": null,
            "grid_column": null,
            "overflow_y": null,
            "overflow_x": null,
            "grid_auto_flow": null,
            "grid_area": null,
            "grid_template_columns": null,
            "flex": null,
            "_model_name": "LayoutModel",
            "justify_items": null,
            "grid_row": null,
            "max_height": null,
            "align_content": null,
            "visibility": null,
            "align_self": null,
            "height": null,
            "min_height": null,
            "padding": null,
            "grid_auto_rows": null,
            "grid_gap": null,
            "max_width": null,
            "order": null,
            "_view_module_version": "1.2.0",
            "grid_template_areas": null,
            "object_position": null,
            "object_fit": null,
            "grid_auto_columns": null,
            "margin": null,
            "display": null,
            "left": null
          }
        },
        "04c7f50bce3447dda54155dd92299953": {
          "model_module": "@jupyter-widgets/controls",
          "model_name": "DescriptionStyleModel",
          "state": {
            "_view_name": "StyleView",
            "_model_name": "DescriptionStyleModel",
            "description_width": "",
            "_view_module": "@jupyter-widgets/base",
            "_model_module_version": "1.5.0",
            "_view_count": null,
            "_view_module_version": "1.2.0",
            "_model_module": "@jupyter-widgets/controls"
          }
        },
        "aff29b8aec6a452b83f3e76cb8d14899": {
          "model_module": "@jupyter-widgets/base",
          "model_name": "LayoutModel",
          "state": {
            "_view_name": "LayoutView",
            "grid_template_rows": null,
            "right": null,
            "justify_content": null,
            "_view_module": "@jupyter-widgets/base",
            "overflow": null,
            "_model_module_version": "1.2.0",
            "_view_count": null,
            "flex_flow": null,
            "width": null,
            "min_width": null,
            "border": null,
            "align_items": null,
            "bottom": null,
            "_model_module": "@jupyter-widgets/base",
            "top": null,
            "grid_column": null,
            "overflow_y": null,
            "overflow_x": null,
            "grid_auto_flow": null,
            "grid_area": null,
            "grid_template_columns": null,
            "flex": null,
            "_model_name": "LayoutModel",
            "justify_items": null,
            "grid_row": null,
            "max_height": null,
            "align_content": null,
            "visibility": null,
            "align_self": null,
            "height": null,
            "min_height": null,
            "padding": null,
            "grid_auto_rows": null,
            "grid_gap": null,
            "max_width": null,
            "order": null,
            "_view_module_version": "1.2.0",
            "grid_template_areas": null,
            "object_position": null,
            "object_fit": null,
            "grid_auto_columns": null,
            "margin": null,
            "display": null,
            "left": null
          }
        },
        "1973129acc7544e6a13d3d4f2d34a359": {
          "model_module": "@jupyter-widgets/base",
          "model_name": "LayoutModel",
          "state": {
            "_view_name": "LayoutView",
            "grid_template_rows": null,
            "right": null,
            "justify_content": null,
            "_view_module": "@jupyter-widgets/base",
            "overflow": null,
            "_model_module_version": "1.2.0",
            "_view_count": null,
            "flex_flow": null,
            "width": null,
            "min_width": null,
            "border": null,
            "align_items": null,
            "bottom": null,
            "_model_module": "@jupyter-widgets/base",
            "top": null,
            "grid_column": null,
            "overflow_y": null,
            "overflow_x": null,
            "grid_auto_flow": null,
            "grid_area": null,
            "grid_template_columns": null,
            "flex": null,
            "_model_name": "LayoutModel",
            "justify_items": null,
            "grid_row": null,
            "max_height": null,
            "align_content": null,
            "visibility": null,
            "align_self": null,
            "height": null,
            "min_height": null,
            "padding": null,
            "grid_auto_rows": null,
            "grid_gap": null,
            "max_width": null,
            "order": null,
            "_view_module_version": "1.2.0",
            "grid_template_areas": null,
            "object_position": null,
            "object_fit": null,
            "grid_auto_columns": null,
            "margin": null,
            "display": null,
            "left": null
          }
        }
      }
    }
  },
  "cells": [
    {
      "cell_type": "markdown",
      "metadata": {
        "colab_type": "text",
        "id": "0JlC1S7D3OTZ"
      },
      "source": [
        "# Jugando con SVM y sus parámetros\n",
        "El objetivo de ésta notebook es que juegues un poco con los parámetros de SVM y que observes como estos influyen en la clasificación final del modelo sobre el dataset de Iris.\n",
        "\n",
        "## Intrucciones de uso\n",
        "1. Ejecuta los primeros dos bloques de código, en el primero importamos la librería `ipywidgets` que es la que nos va a permitir jugar de manera interactiva con la notebook. Luego, en el segundo bloque de código se define una función, la cual simplemente instancia un clasificador SVM (con ciertos parámetros de congifuración que luego vamos a cambiar), entrena, predice y grafica la frontera de decisión definida por la SVM.\n",
        "2. Una vez ejecutados los primeros dos bloques de código, vamos a ejecutar el tercero. Al ejecutar el tercer y último bloque, nos debería de aparecer un menú desplegable desde donde vas a poder modificar los parámetros `C`, `Gamma` y el `Kernel` de la SVM; y dichos cambios se deberían ver reflejados en la gráfica de la frontera de decisión."
      ]
    },
    {
      "cell_type": "code",
      "metadata": {
        "colab_type": "code",
        "id": "2Fo-wite1jos",
        "colab": {}
      },
      "source": [
        "from ipywidgets import interact, fixed"
      ],
      "execution_count": null,
      "outputs": []
    },
    {
      "cell_type": "code",
      "metadata": {
        "colab_type": "code",
        "id": "yTy7Gupt1joj",
        "colab": {}
      },
      "source": [
        "def svm_iris(C=1.0, gamma = 0.01, kernel = \"rbf\"):\n",
        "    import pandas as pd\n",
        "    import numpy as np\n",
        "    from sklearn import svm, datasets\n",
        "    import matplotlib.pyplot as plt\n",
        "\n",
        "    iris = datasets.load_iris()\n",
        "    \n",
        "    X = iris.data[:, :2]\n",
        "    Y = iris.target\n",
        "\n",
        "    x_min, x_max = X[:,0].min()-1, X[:,0].max()+1\n",
        "    y_min, y_max = X[:,1].min()-1, X[:,1].max()+1\n",
        "    h = (x_max - x_min)/100\n",
        "\n",
        "    xx, yy = np.meshgrid(np.arange(x_min, x_max, h), np.arange(y_min, y_max, h))\n",
        "\n",
        "    X_plot = np.c_[xx.ravel(), yy.ravel()]\n",
        "\n",
        "    svc = svm.SVC(kernel=kernel, C=C, gamma=gamma, decision_function_shape=\"ovr\").fit(X,Y)\n",
        "    Ypred = svc.predict(X_plot)\n",
        "    Ypred = Ypred.reshape(xx.shape)\n",
        "    plt.figure(figsize=(10,7))\n",
        "    plt.contourf(xx, yy, Ypred, cmap=plt.cm.tab10, alpha=0.3)\n",
        "    plt.scatter(X[:,0], X[:,1], c=Y, cmap=plt.cm.tab10)\n",
        "    plt.xlabel(\"Longitud de los pétalos\")\n",
        "    plt.ylabel(\"Anchura de los pétalos\")\n",
        "    plt.xlim(xx.min(), xx.max())\n",
        "    plt.title(\"SVC para el Iris Dataset con Kernel \"+kernel)"
      ],
      "execution_count": null,
      "outputs": []
    },
    {
      "cell_type": "code",
      "metadata": {
        "colab_type": "code",
        "id": "3dami9M11jo1",
        "colab": {
          "base_uri": "https://localhost:8080/",
          "height": 572,
          "referenced_widgets": [
            "3fa10d9cd79d48fcaecc5a8bb393ceb8",
            "121c6d9f05734e12a42137196637e23a",
            "259b5bd313e34df98cc3fa4d189bed0f",
            "a527d41fd4d1468d9ed872a41a646042",
            "a227d67a603b41e89fec9e276d8d2374",
            "44a14ef9c509435fa64abb0eb60c51b7",
            "f51d36c0858f443b878b9e937c9f525c",
            "fca5c11624964eb6b9f57f2a64db2ec1",
            "b907e15cea6e442e8721f74961176905",
            "1beb018f4a3743c2b84856f3282b84ee",
            "04c7f50bce3447dda54155dd92299953",
            "aff29b8aec6a452b83f3e76cb8d14899",
            "1973129acc7544e6a13d3d4f2d34a359"
          ]
        },
        "outputId": "c976d674-d1f9-4c09-c98a-207fdeab7601"
      },
      "source": [
        "interact(svm_iris, C=[0.01, 0.1, 1,10, 100, 1000],\n",
        "        gamma=[1e-5, 1e-4, 1e-3, 1e-2, 0.1, 0.2, 0.5, 0.99],\n",
        "        kernel=[\"linear\", \"rbf\", \"sigmoid\", \"poly\"])"
      ],
      "execution_count": null,
      "outputs": [
        {
          "output_type": "display_data",
          "data": {
            "application/vnd.jupyter.widget-view+json": {
              "model_id": "3fa10d9cd79d48fcaecc5a8bb393ceb8",
              "version_minor": 0,
              "version_major": 2
            },
            "text/plain": [
              "interactive(children=(Dropdown(description='C', index=2, options=(0.01, 0.1, 1, 10, 100, 1000), value=1), Drop…"
            ]
          },
          "metadata": {
            "tags": []
          }
        },
        {
          "output_type": "execute_result",
          "data": {
            "text/plain": [
              "<function __main__.svm_iris>"
            ]
          },
          "metadata": {
            "tags": []
          },
          "execution_count": 3
        }
      ]
    },
    {
      "cell_type": "code",
      "metadata": {
        "id": "KVzV8v-UINVZ",
        "colab_type": "code",
        "colab": {}
      },
      "source": [
        ""
      ],
      "execution_count": null,
      "outputs": []
    }
  ]
}