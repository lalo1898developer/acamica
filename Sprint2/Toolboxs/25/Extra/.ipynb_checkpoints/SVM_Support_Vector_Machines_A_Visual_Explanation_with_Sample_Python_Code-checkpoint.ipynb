{
  "nbformat": 4,
  "nbformat_minor": 0,
  "metadata": {
    "hide_input": false,
    "kernelspec": {
      "display_name": "Python 3",
      "language": "python",
      "name": "python3"
    },
    "language_info": {
      "codemirror_mode": {
        "name": "ipython",
        "version": 3
      },
      "file_extension": ".py",
      "mimetype": "text/x-python",
      "name": "python",
      "nbconvert_exporter": "python",
      "pygments_lexer": "ipython3",
      "version": "3.7.4"
    },
    "colab": {
      "name": "SVM - Support Vector Machines A Visual Explanation with Sample Python Code.ipynb",
      "provenance": []
    }
  },
  "cells": [
    {
      "cell_type": "code",
      "metadata": {
        "id": "kcjzw6zMOHxR",
        "colab_type": "code",
        "colab": {}
      },
      "source": [
        "import pandas as pd\n",
        "import numpy as np\n",
        "from sklearn import svm\n",
        "\n",
        "import matplotlib.pyplot as plt\n",
        "import seaborn as sns; sns.set(font_scale=1.2)\n",
        "\n",
        "%matplotlib inline\n",
        "\n",
        "import pickle"
      ],
      "execution_count": null,
      "outputs": []
    },
    {
      "cell_type": "code",
      "metadata": {
        "id": "fH6Fsr-lOHxW",
        "colab_type": "code",
        "colab": {
          "base_uri": "https://localhost:8080/",
          "height": 195
        },
        "outputId": "30ebd57d-a9f1-4e6c-ccf2-41cc9a48816e"
      },
      "source": [
        "recipes = pd.read_csv('https://raw.githubusercontent.com/adashofdata/muffin-cupcake/master/recipes_muffins_cupcakes.csv')\n",
        "recipes.loc[[0,1,2,3,4], 'Type']='New'\n",
        "recipes.head()"
      ],
      "execution_count": null,
      "outputs": [
        {
          "output_type": "execute_result",
          "data": {
            "text/html": [
              "<div>\n",
              "<style scoped>\n",
              "    .dataframe tbody tr th:only-of-type {\n",
              "        vertical-align: middle;\n",
              "    }\n",
              "\n",
              "    .dataframe tbody tr th {\n",
              "        vertical-align: top;\n",
              "    }\n",
              "\n",
              "    .dataframe thead th {\n",
              "        text-align: right;\n",
              "    }\n",
              "</style>\n",
              "<table border=\"1\" class=\"dataframe\">\n",
              "  <thead>\n",
              "    <tr style=\"text-align: right;\">\n",
              "      <th></th>\n",
              "      <th>Type</th>\n",
              "      <th>Flour</th>\n",
              "      <th>Milk</th>\n",
              "      <th>Sugar</th>\n",
              "      <th>Butter</th>\n",
              "      <th>Egg</th>\n",
              "      <th>Baking Powder</th>\n",
              "      <th>Vanilla</th>\n",
              "      <th>Salt</th>\n",
              "    </tr>\n",
              "  </thead>\n",
              "  <tbody>\n",
              "    <tr>\n",
              "      <th>0</th>\n",
              "      <td>New</td>\n",
              "      <td>55</td>\n",
              "      <td>28</td>\n",
              "      <td>3</td>\n",
              "      <td>7</td>\n",
              "      <td>5</td>\n",
              "      <td>2</td>\n",
              "      <td>0</td>\n",
              "      <td>0</td>\n",
              "    </tr>\n",
              "    <tr>\n",
              "      <th>1</th>\n",
              "      <td>New</td>\n",
              "      <td>47</td>\n",
              "      <td>24</td>\n",
              "      <td>12</td>\n",
              "      <td>6</td>\n",
              "      <td>9</td>\n",
              "      <td>1</td>\n",
              "      <td>0</td>\n",
              "      <td>0</td>\n",
              "    </tr>\n",
              "    <tr>\n",
              "      <th>2</th>\n",
              "      <td>New</td>\n",
              "      <td>47</td>\n",
              "      <td>23</td>\n",
              "      <td>18</td>\n",
              "      <td>6</td>\n",
              "      <td>4</td>\n",
              "      <td>1</td>\n",
              "      <td>0</td>\n",
              "      <td>0</td>\n",
              "    </tr>\n",
              "    <tr>\n",
              "      <th>3</th>\n",
              "      <td>New</td>\n",
              "      <td>45</td>\n",
              "      <td>11</td>\n",
              "      <td>17</td>\n",
              "      <td>17</td>\n",
              "      <td>8</td>\n",
              "      <td>1</td>\n",
              "      <td>0</td>\n",
              "      <td>0</td>\n",
              "    </tr>\n",
              "    <tr>\n",
              "      <th>4</th>\n",
              "      <td>New</td>\n",
              "      <td>50</td>\n",
              "      <td>25</td>\n",
              "      <td>12</td>\n",
              "      <td>6</td>\n",
              "      <td>5</td>\n",
              "      <td>2</td>\n",
              "      <td>1</td>\n",
              "      <td>0</td>\n",
              "    </tr>\n",
              "  </tbody>\n",
              "</table>\n",
              "</div>"
            ],
            "text/plain": [
              "  Type  Flour  Milk  Sugar  Butter  Egg  Baking Powder  Vanilla  Salt\n",
              "0  New     55    28      3       7    5              2        0     0\n",
              "1  New     47    24     12       6    9              1        0     0\n",
              "2  New     47    23     18       6    4              1        0     0\n",
              "3  New     45    11     17      17    8              1        0     0\n",
              "4  New     50    25     12       6    5              2        1     0"
            ]
          },
          "metadata": {
            "tags": []
          },
          "execution_count": 43
        }
      ]
    },
    {
      "cell_type": "code",
      "metadata": {
        "id": "RZx5AlVMOHxZ",
        "colab_type": "code",
        "colab": {
          "base_uri": "https://localhost:8080/",
          "height": 369
        },
        "outputId": "81f15230-a591-4298-bf00-71d2f4d31631"
      },
      "source": [
        "sns.lmplot('Flour', 'Sugar', data=recipes, hue='Type',\n",
        "           palette='Set1', fit_reg=False, scatter_kws={\"s\": 70});"
      ],
      "execution_count": null,
      "outputs": [
        {
          "output_type": "display_data",
          "data": {
            "image/png": "[encoded data removed]",
            "text/plain": [
              "<Figure size 464.77x360 with 1 Axes>"
            ]
          },
          "metadata": {
            "tags": [],
            "needs_background": "light"
          }
        }
      ]
    },
    {
      "cell_type": "code",
      "metadata": {
        "id": "w6vC1CdbOHxc",
        "colab_type": "code",
        "colab": {}
      },
      "source": [
        "ingredients = recipes[['Flour','Sugar']].values\n",
        "recipes['type_label'] = pd.factorize(recipes['Type'])[0]\n",
        "recipe_features = recipes.columns.values[1:].tolist()"
      ],
      "execution_count": null,
      "outputs": []
    },
    {
      "cell_type": "code",
      "metadata": {
        "id": "Vwk3ziTOOHxf",
        "colab_type": "code",
        "colab": {
          "base_uri": "https://localhost:8080/",
          "height": 84
        },
        "outputId": "7a6c8f01-bcfc-4e03-d19f-8920523b2a5e"
      },
      "source": [
        "model = svm.SVC(kernel='rbf', C=0.01)\n",
        "model.fit(ingredients, recipes['type_label'])"
      ],
      "execution_count": null,
      "outputs": [
        {
          "output_type": "execute_result",
          "data": {
            "text/plain": [
              "SVC(C=0.01, break_ties=False, cache_size=200, class_weight=None, coef0=0.0,\n",
              "    decision_function_shape='ovr', degree=3, gamma='scale', kernel='rbf',\n",
              "    max_iter=-1, probability=False, random_state=None, shrinking=True,\n",
              "    tol=0.001, verbose=False)"
            ]
          },
          "metadata": {
            "tags": []
          },
          "execution_count": 55
        }
      ]
    },
    {
      "cell_type": "code",
      "metadata": {
        "id": "bFtrV1OwOHxi",
        "colab_type": "code",
        "colab": {
          "base_uri": "https://localhost:8080/",
          "height": 84
        },
        "outputId": "30437bff-8b75-483d-8298-a757125222eb"
      },
      "source": [
        "w = model.coef_[0]\n",
        "print(model.coef_)\n",
        "a = -w[0] / w[1]\n",
        "xx = np.linspace(30, 60)\n",
        "yy = a * xx - (model.intercept_[0]) / w[1]\n",
        "\n",
        "b = model.support_vectors_[0]\n",
        "yy_down = a * xx + (b[1] - a * b[0])\n",
        "b = model.support_vectors_[-1]\n",
        "yy_up = a * xx + (b[1] - a * b[0])\n",
        "model.support_vectors_[-1]"
      ],
      "execution_count": null,
      "outputs": [
        {
          "output_type": "stream",
          "text": [
            "[[-0.10918919  0.06486486]\n",
            " [ 0.15407216 -0.09458763]\n",
            " [ 0.175      -0.075     ]]\n"
          ],
          "name": "stdout"
        },
        {
          "output_type": "execute_result",
          "data": {
            "text/plain": [
              "array([42., 25.])"
            ]
          },
          "metadata": {
            "tags": []
          },
          "execution_count": 52
        }
      ]
    },
    {
      "cell_type": "code",
      "metadata": {
        "id": "tllU04m-OHxl",
        "colab_type": "code",
        "colab": {
          "base_uri": "https://localhost:8080/",
          "height": 369
        },
        "outputId": "7d82f62b-1d9f-4f10-e636-caf906e2fce9"
      },
      "source": [
        "sns.lmplot('Flour', 'Sugar', data=recipes, hue='Type', palette='Set1', fit_reg=False, scatter_kws={\"s\": 70})\n",
        "plt.plot(xx, yy, linewidth=2, color='black');"
      ],
      "execution_count": null,
      "outputs": [
        {
          "output_type": "display_data",
          "data": {
            "image/png": "[encoded data removed]",
            "text/plain": [
              "<Figure size 464.77x360 with 1 Axes>"
            ]
          },
          "metadata": {
            "tags": [],
            "needs_background": "light"
          }
        }
      ]
    },
    {
      "cell_type": "code",
      "metadata": {
        "id": "bdzodr1kOHxo",
        "colab_type": "code",
        "colab": {
          "base_uri": "https://localhost:8080/",
          "height": 374
        },
        "outputId": "cd0e14da-aac8-4f40-f5a0-656fdf7578ba"
      },
      "source": [
        "sns.lmplot('Flour', 'Sugar', data=recipes, hue='Type', palette='Set1', fit_reg=False, scatter_kws={\"s\": 70})\n",
        "plt.plot(xx, yy, linewidth=2, color='black')\n",
        "plt.plot(xx, yy_down, 'k--')\n",
        "plt.plot(xx, yy_up, 'k--')\n",
        "plt.scatter(model.support_vectors_[:, 0], model.support_vectors_[:, 1],\n",
        "            s=80, facecolors='none');"
      ],
      "execution_count": null,
      "outputs": [
        {
          "output_type": "display_data",
          "data": {
            "image/png": "[encoded data removed]",
            "text/plain": [
              "<Figure size 464.77x360 with 1 Axes>"
            ]
          },
          "metadata": {
            "tags": [],
            "needs_background": "light"
          }
        }
      ]
    },
    {
      "cell_type": "code",
      "metadata": {
        "id": "WAviul6COHxq",
        "colab_type": "code",
        "colab": {}
      },
      "source": [
        "def muffin_or_cupcake(flour, sugar):\n",
        "    if(model.predict([[flour, sugar]]))==0:\n",
        "        print('You\\'re looking at a muffin recipe!')\n",
        "    else:\n",
        "        print('You\\'re looking at a cupcake recipe!')"
      ],
      "execution_count": null,
      "outputs": []
    },
    {
      "cell_type": "code",
      "metadata": {
        "id": "k961rPcGOHxs",
        "colab_type": "code",
        "colab": {
          "base_uri": "https://localhost:8080/",
          "height": 34
        },
        "outputId": "f5bd0eab-47f4-426e-dc7b-1bcae0a30e49"
      },
      "source": [
        "muffin_or_cupcake(50, 20)"
      ],
      "execution_count": null,
      "outputs": [
        {
          "output_type": "stream",
          "text": [
            "You're looking at a muffin recipe!\n"
          ],
          "name": "stdout"
        }
      ]
    },
    {
      "cell_type": "code",
      "metadata": {
        "id": "k2uxQXQPOHxx",
        "colab_type": "code",
        "colab": {
          "base_uri": "https://localhost:8080/",
          "height": 382
        },
        "outputId": "96232890-e0ae-4898-854b-9707f979e57b"
      },
      "source": [
        "sns.lmplot('Flour', 'Sugar', data=recipes, hue='Type', palette='Set1', fit_reg=False, scatter_kws={\"s\": 70})\n",
        "plt.plot(xx, yy, linewidth=2, color='black')\n",
        "plt.plot(50, 20, 'yo', markersize='9');"
      ],
      "execution_count": null,
      "outputs": [
        {
          "output_type": "display_data",
          "data": {
            "image/png": "[encoded data removed]",
            "text/plain": [
              "<Figure size 464.77x360 with 1 Axes>"
            ]
          },
          "metadata": {
            "tags": [],
            "needs_background": "light"
          }
        }
      ]
    },
    {
      "cell_type": "code",
      "metadata": {
        "id": "4X8vAvn9OHx1",
        "colab_type": "code",
        "colab": {
          "base_uri": "https://localhost:8080/",
          "height": 34
        },
        "outputId": "7663fc36-f55d-4450-96aa-9b5bc69911ec"
      },
      "source": [
        "muffin_or_cupcake(40,20)"
      ],
      "execution_count": null,
      "outputs": [
        {
          "output_type": "stream",
          "text": [
            "You're looking at a cupcake recipe!\n"
          ],
          "name": "stdout"
        }
      ]
    },
    {
      "cell_type": "code",
      "metadata": {
        "id": "9ga3zJVyOHx4",
        "colab_type": "code",
        "colab": {}
      },
      "source": [
        "muffin_cupcake_dict = {'muffin_cupcake_model': model, 'muffin_cupcake_features': ['Flour','Sugar'], 'all_features': recipe_features}"
      ],
      "execution_count": null,
      "outputs": []
    },
    {
      "cell_type": "code",
      "metadata": {
        "id": "LJaY4QsJOHx7",
        "colab_type": "code",
        "colab": {
          "base_uri": "https://localhost:8080/",
          "height": 252
        },
        "outputId": "44c76891-20ce-4ad9-8029-7da684c39c95"
      },
      "source": [
        "muffin_cupcake_dict"
      ],
      "execution_count": null,
      "outputs": [
        {
          "output_type": "execute_result",
          "data": {
            "text/plain": [
              "{'all_features': ['Flour',\n",
              "  'Milk',\n",
              "  'Sugar',\n",
              "  'Butter',\n",
              "  'Egg',\n",
              "  'Baking Powder',\n",
              "  'Vanilla',\n",
              "  'Salt',\n",
              "  'type_label'],\n",
              " 'muffin_cupcake_features': ['Flour', 'Sugar'],\n",
              " 'muffin_cupcake_model': SVC(C=0.01, break_ties=False, cache_size=200, class_weight=None, coef0=0.0,\n",
              "     decision_function_shape='ovr', degree=3, gamma='scale', kernel='rbf',\n",
              "     max_iter=-1, probability=False, random_state=None, shrinking=True,\n",
              "     tol=0.001, verbose=False)}"
            ]
          },
          "metadata": {
            "tags": []
          },
          "execution_count": 60
        }
      ]
    },
    {
      "cell_type": "code",
      "metadata": {
        "id": "KOEizgV8OHx-",
        "colab_type": "code",
        "colab": {}
      },
      "source": [
        "pickle.dump(muffin_cupcake_dict, open(\"muffin_cupcake_dict.p\", \"wb\"))"
      ],
      "execution_count": null,
      "outputs": []
    },
    {
      "cell_type": "code",
      "metadata": {
        "id": "SqwfV2LkOHyB",
        "colab_type": "code",
        "colab": {
          "base_uri": "https://localhost:8080/",
          "height": 54
        },
        "outputId": "a25b5ef4-1c18-433c-be32-af6f8415ce41"
      },
      "source": [
        "pickle.dumps(muffin_cupcake_dict)"
      ],
      "execution_count": null,
      "outputs": [
        {
          "output_type": "execute_result",
          "data": {
            "text/plain": [
              "b'\\x80\\x03}q\\x00(X\\x14\\x00\\x00\\x00muffin_cupcake_modelq\\x01csklearn.svm._classes\\nSVC\\nq\\x02)\\x81q\\x03}q\\x04(X\\x17\\x00\\x00\\x00decision_function_shapeq\\x05X\\x03\\x00\\x00\\x00ovrq\\x06X\\n\\x00\\x00\\x00break_tiesq\\x07\\x89X\\x06\\x00\\x00\\x00kernelq\\x08X\\x03\\x00\\x00\\x00rbfq\\tX\\x06\\x00\\x00\\x00degreeq\\nK\\x03X\\x05\\x00\\x00\\x00gammaq\\x0bX\\x05\\x00\\x00\\x00scaleq\\x0cX\\x05\\x00\\x00\\x00coef0q\\rG\\x00\\x00\\x00\\x00\\x00\\x00\\x00\\x00X\\x03\\x00\\x00\\x00tolq\\x0eG?PbM\\xd2\\xf1\\xa9\\xfcX\\x01\\x00\\x00\\x00Cq\\x0fG?\\x84z\\xe1G\\xae\\x14{X\\x02\\x00\\x00\\x00nuq\\x10G\\x00\\x00\\x00\\x00\\x00\\x00\\x00\\x00X\\x07\\x00\\x00\\x00epsilonq\\x11G\\x00\\x00\\x00\\x00\\x00\\x00\\x00\\x00X\\t\\x00\\x00\\x00shrinkingq\\x12\\x88X\\x0b\\x00\\x00\\x00probabilityq\\x13\\x89X\\n\\x00\\x00\\x00cache_sizeq\\x14K\\xc8X\\x0c\\x00\\x00\\x00class_weightq\\x15NX\\x07\\x00\\x00\\x00verboseq\\x16\\x89X\\x08\\x00\\x00\\x00max_iterq\\x17J\\xff\\xff\\xff\\xffX\\x0c\\x00\\x00\\x00random_stateq\\x18NX\\x07\\x00\\x00\\x00_sparseq\\x19\\x89X\\r\\x00\\x00\\x00class_weight_q\\x1acnumpy.core.multiarray\\n_reconstruct\\nq\\x1bcnumpy\\nndarray\\nq\\x1cK\\x00\\x85q\\x1dC\\x01bq\\x1e\\x87q\\x1fRq (K\\x01K\\x03\\x85q!cnumpy\\ndtype\\nq\"X\\x02\\x00\\x00\\x00f8q#K\\x00K\\x01\\x87q$Rq%(K\\x03X\\x01\\x00\\x00\\x00<q&NNNJ\\xff\\xff\\xff\\xffJ\\xff\\xff\\xff\\xffK\\x00tq\\'b\\x89C\\x18\\x00\\x00\\x00\\x00\\x00\\x00\\xf0?\\x00\\x00\\x00\\x00\\x00\\x00\\xf0?\\x00\\x00\\x00\\x00\\x00\\x00\\xf0?q(tq)bX\\x08\\x00\\x00\\x00classes_q*h\\x1bh\\x1cK\\x00\\x85q+h\\x1e\\x87q,Rq-(K\\x01K\\x03\\x85q.h\"X\\x02\\x00\\x00\\x00i8q/K\\x00K\\x01\\x87q0Rq1(K\\x03h&NNNJ\\xff\\xff\\xff\\xffJ\\xff\\xff\\xff\\xffK\\x00tq2b\\x89C\\x18\\x00\\x00\\x00\\x00\\x00\\x00\\x00\\x00\\x01\\x00\\x00\\x00\\x00\\x00\\x00\\x00\\x02\\x00\\x00\\x00\\x00\\x00\\x00\\x00q3tq4bX\\x06\\x00\\x00\\x00_gammaq5cnumpy.core.multiarray\\nscalar\\nq6h%C\\x08\\x01\\x1d\\x01t\\x04\\xd0a?q7\\x86q8Rq9X\\x08\\x00\\x00\\x00support_q:h\\x1bh\\x1cK\\x00\\x85q;h\\x1e\\x87q<Rq=(K\\x01K\\x0f\\x85q>h\"X\\x02\\x00\\x00\\x00i4q?K\\x00K\\x01\\x87q@RqA(K\\x03h&NNNJ\\xff\\xff\\xff\\xffJ\\xff\\xff\\xff\\xffK\\x00tqBb\\x89C<\\x00\\x00\\x00\\x00\\x01\\x00\\x00\\x00\\x02\\x00\\x00\\x00\\x03\\x00\\x00\\x00\\x04\\x00\\x00\\x00\\x05\\x00\\x00\\x00\\x06\\x00\\x00\\x00\\x07\\x00\\x00\\x00\\x08\\x00\\x00\\x00\\t\\x00\\x00\\x00\\x0b\\x00\\x00\\x00\\r\\x00\\x00\\x00\\x0e\\x00\\x00\\x00\\x0f\\x00\\x00\\x00\\x10\\x00\\x00\\x00qCtqDbX\\x10\\x00\\x00\\x00support_vectors_qEh\\x1bh\\x1cK\\x00\\x85qFh\\x1e\\x87qGRqH(K\\x01K\\x0fK\\x02\\x86qIh%\\x89C\\xf0\\x00\\x00\\x00\\x00\\x00\\x80K@\\x00\\x00\\x00\\x00\\x00\\x00\\x08@\\x00\\x00\\x00\\x00\\x00\\x80G@\\x00\\x00\\x00\\x00\\x00\\x00(@\\x00\\x00\\x00\\x00\\x00\\x80G@\\x00\\x00\\x00\\x00\\x00\\x002@\\x00\\x00\\x00\\x00\\x00\\x80F@\\x00\\x00\\x00\\x00\\x00\\x001@\\x00\\x00\\x00\\x00\\x00\\x00I@\\x00\\x00\\x00\\x00\\x00\\x00(@\\x00\\x00\\x00\\x00\\x00\\x80K@\\x00\\x00\\x00\\x00\\x00\\x00\\x08@\\x00\\x00\\x00\\x00\\x00\\x00K@\\x00\\x00\\x00\\x00\\x00\\x00\\x1c@\\x00\\x00\\x00\\x00\\x00\\x80G@\\x00\\x00\\x00\\x00\\x00\\x00$@\\x00\\x00\\x00\\x00\\x00\\x00I@\\x00\\x00\\x00\\x00\\x00\\x001@\\x00\\x00\\x00\\x00\\x00\\x00I@\\x00\\x00\\x00\\x00\\x00\\x001@\\x00\\x00\\x00\\x00\\x00\\x00E@\\x00\\x00\\x00\\x00\\x00\\x000@\\x00\\x00\\x00\\x00\\x00\\x80C@\\x00\\x00\\x00\\x00\\x00\\x001@\\x00\\x00\\x00\\x00\\x00\\x00C@\\x00\\x00\\x00\\x00\\x00\\x007@\\x00\\x00\\x00\\x00\\x00\\x00E@\\x00\\x00\\x00\\x00\\x00\\x009@\\x00\\x00\\x00\\x00\\x00\\x00B@\\x00\\x00\\x00\\x00\\x00\\x005@qJtqKbX\\n\\x00\\x00\\x00_n_supportqLh\\x1bh\\x1cK\\x00\\x85qMh\\x1e\\x87qNRqO(K\\x01K\\x03\\x85qPhA\\x89C\\x0c\\x05\\x00\\x00\\x00\\x05\\x00\\x00\\x00\\x05\\x00\\x00\\x00qQtqRbX\\n\\x00\\x00\\x00dual_coef_qSh\\x1bh\\x1cK\\x00\\x85qTh\\x1e\\x87qURqV(K\\x01K\\x02K\\x0f\\x86qWh%\\x89C\\xf0{\\x14\\xaeG\\xe1z\\x84?{\\x14\\xaeG\\xe1z\\x84?{\\x14\\xaeG\\xe1z\\x84?{\\x14\\xaeG\\xe1z\\x84?{\\x14\\xaeG\\xe1z\\x84?{\\x14\\xaeG\\xe1z\\x84\\xbf{\\x14\\xaeG\\xe1z\\x84\\xbf{\\x14\\xaeG\\xe1z\\x84\\xbf{\\x14\\xaeG\\xe1z\\x84\\xbf{\\x14\\xaeG\\xe1z\\x84\\xbf{\\x14\\xaeG\\xe1z\\x84\\xbf{\\x14\\xaeG\\xe1z\\x84\\xbf{\\x14\\xaeG\\xe1z\\x84\\xbf{\\x14\\xaeG\\xe1z\\x84\\xbf{\\x14\\xaeG\\xe1z\\x84\\xbf{\\x14\\xaeG\\xe1z\\x84?{\\x14\\xaeG\\xe1z\\x84?{\\x14\\xaeG\\xe1z\\x84?{\\x14\\xaeG\\xe1z\\x84?{\\x14\\xaeG\\xe1z\\x84?{\\x14\\xaeG\\xe1z\\x84?{\\x14\\xaeG\\xe1z\\x84?{\\x14\\xaeG\\xe1z\\x84?{\\x14\\xaeG\\xe1z\\x84?{\\x14\\xaeG\\xe1z\\x84?{\\x14\\xaeG\\xe1z\\x84\\xbf{\\x14\\xaeG\\xe1z\\x84\\xbf{\\x14\\xaeG\\xe1z\\x84\\xbf{\\x14\\xaeG\\xe1z\\x84\\xbf{\\x14\\xaeG\\xe1z\\x84\\xbfqXtqYbX\\n\\x00\\x00\\x00intercept_qZh\\x1bh\\x1cK\\x00\\x85q[h\\x1e\\x87q\\\\Rq](K\\x01K\\x03\\x85q^h%\\x89C\\x18\\x00\\xb0G\\xe1z\\x04\\'?\\xafG\\xe1\\xe1\\xd1r\\xef\\xbf\\x00\\x00\\x00\\x95\\x1dE\\xef\\xbfq_tq`bX\\x06\\x00\\x00\\x00probA_qah\\x1bh\\x1cK\\x00\\x85qbh\\x1e\\x87qcRqd(K\\x01K\\x00\\x85qeh%\\x89C\\x00qftqgbX\\x06\\x00\\x00\\x00probB_qhh\\x1bh\\x1cK\\x00\\x85qih\\x1e\\x87qjRqk(K\\x01K\\x00\\x85qlh%\\x89hftqmbX\\x0b\\x00\\x00\\x00fit_status_qnK\\x00X\\n\\x00\\x00\\x00shape_fit_qoK\\x14K\\x02\\x86qpX\\x0b\\x00\\x00\\x00_intercept_qqh\\x1bh\\x1cK\\x00\\x85qrh\\x1e\\x87qsRqt(K\\x01K\\x03\\x85quh%\\x89C\\x18\\x00\\xb0G\\xe1z\\x04\\'?\\xafG\\xe1\\xe1\\xd1r\\xef\\xbf\\x00\\x00\\x00\\x95\\x1dE\\xef\\xbfqvtqwbX\\x0b\\x00\\x00\\x00_dual_coef_qxhVX\\x10\\x00\\x00\\x00_sklearn_versionqyX\\x0c\\x00\\x00\\x000.22.2.post1qzubX\\x17\\x00\\x00\\x00muffin_cupcake_featuresq{]q|(X\\x05\\x00\\x00\\x00Flourq}X\\x05\\x00\\x00\\x00Sugarq~eX\\x0c\\x00\\x00\\x00all_featuresq\\x7f]q\\x80(X\\x05\\x00\\x00\\x00Flourq\\x81X\\x04\\x00\\x00\\x00Milkq\\x82X\\x05\\x00\\x00\\x00Sugarq\\x83X\\x06\\x00\\x00\\x00Butterq\\x84X\\x03\\x00\\x00\\x00Eggq\\x85X\\r\\x00\\x00\\x00Baking Powderq\\x86X\\x07\\x00\\x00\\x00Vanillaq\\x87X\\x04\\x00\\x00\\x00Saltq\\x88X\\n\\x00\\x00\\x00type_labelq\\x89eu.'"
            ]
          },
          "metadata": {
            "tags": []
          },
          "execution_count": 62
        }
      ]
    },
    {
      "cell_type": "code",
      "metadata": {
        "id": "UH7CrkR8OHyE",
        "colab_type": "code",
        "colab": {
          "base_uri": "https://localhost:8080/",
          "height": 302
        },
        "outputId": "cce6cbe6-ccc7-4901-f002-334c57a2fb5f"
      },
      "source": [
        "help(pickle.dumps)"
      ],
      "execution_count": null,
      "outputs": [
        {
          "output_type": "stream",
          "text": [
            "Help on built-in function dumps in module _pickle:\n",
            "\n",
            "dumps(obj, protocol=None, *, fix_imports=True)\n",
            "    Return the pickled representation of the object as a bytes object.\n",
            "    \n",
            "    The optional *protocol* argument tells the pickler to use the given\n",
            "    protocol; supported protocols are 0, 1, 2, 3 and 4.  The default\n",
            "    protocol is 3; a backward-incompatible protocol designed for Python 3.\n",
            "    \n",
            "    Specifying a negative protocol version selects the highest protocol\n",
            "    version supported.  The higher the protocol used, the more recent the\n",
            "    version of Python needed to read the pickle produced.\n",
            "    \n",
            "    If *fix_imports* is True and *protocol* is less than 3, pickle will\n",
            "    try to map the new Python 3 names to the old module names used in\n",
            "    Python 2, so that the pickle data stream is readable with Python 2.\n",
            "\n"
          ],
          "name": "stdout"
        }
      ]
    }
  ]
}